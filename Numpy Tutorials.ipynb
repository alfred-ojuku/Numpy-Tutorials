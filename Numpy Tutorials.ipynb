{
 "cells": [
  {
   "cell_type": "markdown",
   "id": "bd5ba4f4",
   "metadata": {},
   "source": [
    "## A simple Numpy example"
   ]
  },
  {
   "cell_type": "code",
   "execution_count": 2,
   "id": "22b1f63f",
   "metadata": {},
   "outputs": [
    {
     "name": "stdout",
     "output_type": "stream",
     "text": [
      "[20.1 20.8 21.9 22.5 22.7 22.3 21.8 21.2 20.9 20.1]\n",
      "\n",
      "[68.18 69.44 71.42 72.5  72.86 72.14 71.24 70.16 69.62 68.18]\n"
     ]
    },
    {
     "data": {
      "text/plain": [
       "numpy.ndarray"
      ]
     },
     "execution_count": 2,
     "metadata": {},
     "output_type": "execute_result"
    }
   ],
   "source": [
    "import numpy as np\n",
    "\n",
    "c_values = [20.1, 20.8, 21.9, 22.5, 22.7, 22.3, 21.8, 21.2, 20.9, 20.1] #in degrees\n",
    "\n",
    "#turning cvalues list into one-dimensional numpy array\n",
    "C = np.array(c_values)\n",
    "print(C)\n",
    "\n",
    "#Changing the the values from degrees celsius to degrees Fahrenheit\n",
    "print(f\"\\n{C * 9/5 + 32}\")\n",
    "\n",
    "type(C)"
   ]
  },
  {
   "cell_type": "markdown",
   "id": "84ea9c6d",
   "metadata": {},
   "source": [
    "## Graphical representation of the values"
   ]
  },
  {
   "cell_type": "code",
   "execution_count": 3,
   "id": "e48d9656",
   "metadata": {},
   "outputs": [
    {
     "data": {
      "image/png": "[encoded data removed]",
      "text/plain": [
       "<Figure size 640x480 with 1 Axes>"
      ]
     },
     "metadata": {},
     "output_type": "display_data"
    }
   ],
   "source": [
    "%matplotlib inline\n",
    "import matplotlib.pyplot as plt\n",
    "\n",
    "plt.plot(C)\n",
    "plt.show()"
   ]
  },
  {
   "cell_type": "markdown",
   "id": "66f8befd",
   "metadata": {},
   "source": [
    "## Memory consumption: ndarray vs list"
   ]
  },
  {
   "cell_type": "markdown",
   "id": "cd86d827",
   "metadata": {},
   "source": [
    "### List"
   ]
  },
  {
   "cell_type": "code",
   "execution_count": 4,
   "id": "067bde4f",
   "metadata": {},
   "outputs": [
    {
     "name": "stdout",
     "output_type": "stream",
     "text": [
      "Size of list without element: 80\n",
      "Size of elements: 84\n",
      "Total size of list, including elements: 164\n"
     ]
    }
   ],
   "source": [
    "from sys import getsizeof as size\n",
    "\n",
    "lst = [24, 12, 67]\n",
    "size_of_list_object = size(lst)\n",
    "size_of_elements = len(lst) * size(lst[0])\n",
    "total_list_size = size_of_list_object + size_of_elements\n",
    "print(f\"Size of list without element: {size_of_list_object}\")\n",
    "print(f\"Size of elements: {size_of_elements}\")\n",
    "print(f\"Total size of list, including elements: {total_list_size}\")\n",
    "\n"
   ]
  },
  {
   "cell_type": "code",
   "execution_count": 5,
   "id": "644870c0",
   "metadata": {},
   "outputs": [
    {
     "name": "stdout",
     "output_type": "stream",
     "text": [
      "Size of list without element: 88\n",
      "Size of elements: 112\n",
      "Total size of list, including elements: 200\n",
      "Empty list size: 56\n"
     ]
    }
   ],
   "source": [
    "lst = [24, 12, 67, 45]\n",
    "lst1 = []\n",
    "size_of_list_object = size(lst)\n",
    "size_of_elements = len(lst) * size(lst[0])\n",
    "total_list_size = size_of_list_object + size_of_elements\n",
    "print(f\"Size of list without element: {size_of_list_object}\")\n",
    "print(f\"Size of elements: {size_of_elements}\")\n",
    "print(f\"Total size of list, including elements: {total_list_size}\")\n",
    "print(f\"Empty list size: {size(lst1)}\")"
   ]
  },
  {
   "cell_type": "markdown",
   "id": "f3e4821d",
   "metadata": {},
   "source": [
    "### Ndarray"
   ]
  },
  {
   "cell_type": "code",
   "execution_count": 6,
   "id": "2a696124",
   "metadata": {},
   "outputs": [
    {
     "name": "stdout",
     "output_type": "stream",
     "text": [
      "124\n",
      "112\n"
     ]
    }
   ],
   "source": [
    "a = np.array([24, 12, 67])\n",
    "print(size(a))\n",
    "e = np.array([])\n",
    "print(size(e))"
   ]
  },
  {
   "cell_type": "markdown",
   "id": "57c2d751",
   "metadata": {},
   "source": [
    "## Time consumption: ndarray vs list"
   ]
  },
  {
   "cell_type": "code",
   "execution_count": 7,
   "id": "2f5b6aa7",
   "metadata": {},
   "outputs": [
    {
     "name": "stdout",
     "output_type": "stream",
     "text": [
      "0.001004934310913086\n",
      "0.0\n"
     ]
    }
   ],
   "source": [
    "import time\n",
    "\n",
    "size_of_vec = 1000\n",
    "\n",
    "def pure_python_version():\n",
    "    t1 = time.time()\n",
    "    x = range(size_of_vec)\n",
    "    y = range(size_of_vec)\n",
    "    z = [x[i] + y[i] for i in range(len(x))]\n",
    "    \n",
    "    return time.time() - t1\n",
    "\n",
    "def numpy_version():\n",
    "    t1 = time.time()\n",
    "    x = np.arange(size_of_vec)\n",
    "    y = np.arange(size_of_vec)\n",
    "    z = x + y\n",
    "    \n",
    "    return time.time() - t1\n",
    "\n",
    "t1 = pure_python_version()\n",
    "t2 = numpy_version()\n",
    "\n",
    "print(t1)\n",
    "print(float(t2))\n",
    "#print(f\"Numpy in this example is {t1/t2} faster!\")"
   ]
  },
  {
   "cell_type": "markdown",
   "id": "e427a6b7",
   "metadata": {},
   "source": [
    "## Creation of arrays with evenly spaced values"
   ]
  },
  {
   "cell_type": "markdown",
   "id": "40c547e9",
   "metadata": {},
   "source": [
    "### Arange"
   ]
  },
  {
   "cell_type": "code",
   "execution_count": 8,
   "id": "48dc65f9",
   "metadata": {},
   "outputs": [
    {
     "name": "stdout",
     "output_type": "stream",
     "text": [
      "[0 2 4 6 8]\n",
      "range(0, 10)\n",
      "[0, 1, 2, 3, 4, 5, 6, 7, 8, 9]\n",
      "[ 0.  1.  2.  3.  4.  5.  6.  7.  8.  9. 10.]\n",
      "[ 0.5  1.3  2.1  2.9  3.7  4.5  5.3  6.1  6.9  7.7  8.5  9.3 10.1]\n",
      "[12.04 12.12 12.2  12.28 12.36 12.44 12.52 12.6  12.68 12.76 12.84]\n",
      "[ 0  1  2  3  4  5  6  7  8  9 10 11 12]\n"
     ]
    }
   ],
   "source": [
    "x = np.arange(0, 10, 2)\n",
    "print(x)\n",
    "\n",
    "x = range(0, 10)\n",
    "print(x)\n",
    "\n",
    "X = list(x)\n",
    "print(X)\n",
    "\n",
    "#further arange examples\n",
    "y = np.arange(10.4)\n",
    "print(y)\n",
    "y = np.arange(0.5, 10.4, 0.8)\n",
    "print(y)\n",
    "\n",
    "print(np.arange(12.04, 12.84, 0.08))\n",
    "print(np.arange(0.5, 10.4, 0.8, int)) #This results defies all logical operations"
   ]
  },
  {
   "cell_type": "markdown",
   "id": "2d2da6f3",
   "metadata": {},
   "source": [
    "### Linspace"
   ]
  },
  {
   "cell_type": "code",
   "execution_count": 9,
   "id": "0b16a396",
   "metadata": {},
   "outputs": [
    {
     "name": "stdout",
     "output_type": "stream",
     "text": [
      "7\n",
      "[ 1.   2.5  4.   5.5  7.   8.5 10. ]\n",
      "1.5\n"
     ]
    }
   ],
   "source": [
    "x = np.linspace(1, 10, 7)\n",
    "print(len(x))\n",
    "print(x)\n",
    "\n",
    "samples, spacing = np.linspace(1, 10, 7, retstep=True)\n",
    "print(spacing)"
   ]
  },
  {
   "cell_type": "markdown",
   "id": "286ea674",
   "metadata": {},
   "source": [
    "## Zero-dimensional arrays"
   ]
  },
  {
   "cell_type": "code",
   "execution_count": 10,
   "id": "c3cdc5fc",
   "metadata": {},
   "outputs": [
    {
     "name": "stdout",
     "output_type": "stream",
     "text": [
      "x: 42\n",
      "The type of x: <class 'numpy.ndarray'>\n",
      "The dimension of x: 0\n",
      "Shape: ()\n"
     ]
    }
   ],
   "source": [
    "x = np.array(42)\n",
    "print(f\"x: {x}\")\n",
    "print(f\"The type of x: {type(x)}\")\n",
    "print(f\"The dimension of x: {np.ndim(x)}\")\n",
    "print(f\"Shape: {x.shape}\")"
   ]
  },
  {
   "cell_type": "markdown",
   "id": "783d7e18",
   "metadata": {},
   "source": [
    "## One-dimensional arrays"
   ]
  },
  {
   "cell_type": "code",
   "execution_count": 11,
   "id": "cf2deb85",
   "metadata": {},
   "outputs": [
    {
     "name": "stdout",
     "output_type": "stream",
     "text": [
      "F: [ 1  2  3  4  5  6 34]\n",
      "V: [1.2 3.5 6.7 7.5]\n",
      "\n",
      "Type of F: int32\n",
      "Type of V: float64\n",
      "\n",
      "Dimension of F: 1\n",
      "Dimension of V: 1\n"
     ]
    }
   ],
   "source": [
    "F = np.array([1, 2, 3, 4, 5, 6, 34])\n",
    "V = np.array([1.2, 3.5, 6.7, 7.5])\n",
    "\n",
    "print(f\"F: {F}\")\n",
    "print(f\"V: {V}\")\n",
    "print(f\"\\nType of F: {F.dtype}\")\n",
    "print(f\"Type of V: {V.dtype}\")\n",
    "print(f\"\\nDimension of F: {np.ndim(F)}\")\n",
    "print(f\"Dimension of V: {np.ndim(V)}\")\n"
   ]
  },
  {
   "cell_type": "markdown",
   "id": "3a6bd059",
   "metadata": {},
   "source": [
    "## Two-and multidimensional arrays"
   ]
  },
  {
   "cell_type": "code",
   "execution_count": 12,
   "id": "41103921",
   "metadata": {},
   "outputs": [
    {
     "name": "stdout",
     "output_type": "stream",
     "text": [
      "[[1 2 3]\n",
      " [4 5 6]]\n",
      "2\n"
     ]
    }
   ],
   "source": [
    "#two dimensional arrays\n",
    "A = np.array([[1, 2, 3],[4, 5, 6]])\n",
    "print(A)\n",
    "print(np.ndim(A))"
   ]
  },
  {
   "cell_type": "code",
   "execution_count": 13,
   "id": "c75e76bf",
   "metadata": {},
   "outputs": [
    {
     "name": "stdout",
     "output_type": "stream",
     "text": [
      "[[[ 1  2  3]\n",
      "  [ 4  5  6]]\n",
      "\n",
      " [[ 7  8  9]\n",
      "  [10 11 12]]\n",
      "\n",
      " [[13 14 15]\n",
      "  [16 17 18]]\n",
      "\n",
      " [[19 20 21]\n",
      "  [22 23 24]]]\n",
      "3\n"
     ]
    }
   ],
   "source": [
    "# Three dimensional arrays\n",
    "B = np.array([ [[1,2,3], [4, 5, 6]],\n",
    "               [[7, 8, 9], [10, 11, 12]],\n",
    "               [[13, 14, 15], [16, 17, 18]],\n",
    "               [[19, 20, 21], [22, 23, 24]]\n",
    "             ])\n",
    "print(B)\n",
    "print(np.ndim(B))"
   ]
  },
  {
   "cell_type": "markdown",
   "id": "63f6b73c",
   "metadata": {},
   "source": [
    "## Shape of an array"
   ]
  },
  {
   "cell_type": "code",
   "execution_count": 14,
   "id": "bcf5b8f2",
   "metadata": {},
   "outputs": [
    {
     "name": "stdout",
     "output_type": "stream",
     "text": [
      "(2, 3)\n",
      "(4, 2, 3)\n",
      "[[1 2]\n",
      " [3 4]\n",
      " [5 6]]\n"
     ]
    }
   ],
   "source": [
    "print(np.shape(A))\n",
    "print(B.shape)\n",
    "\n",
    "#Changing the shape of A array\n",
    "A.shape = (3, 2)\n",
    "print(A)"
   ]
  },
  {
   "cell_type": "code",
   "execution_count": 15,
   "id": "dd4eaec1",
   "metadata": {},
   "outputs": [
    {
     "name": "stdout",
     "output_type": "stream",
     "text": [
      "[[ 1  2  3  4]\n",
      " [ 5  6  7  8]\n",
      " [ 9 10 11 12]\n",
      " [13 14 15 16]\n",
      " [17 18 19 20]\n",
      " [21 22 23 24]]\n"
     ]
    }
   ],
   "source": [
    "B.shape = (6, 4)\n",
    "print(B)"
   ]
  },
  {
   "cell_type": "markdown",
   "id": "6a808761",
   "metadata": {},
   "source": [
    "## Indexing and slicing"
   ]
  },
  {
   "cell_type": "code",
   "execution_count": 16,
   "id": "5376dbc3",
   "metadata": {},
   "outputs": [
    {
     "name": "stdout",
     "output_type": "stream",
     "text": [
      "2\n",
      "6\n"
     ]
    }
   ],
   "source": [
    "F = np.array([1, 2, 3, 4, 5, 6])\n",
    "print(F[1])\n",
    "print(F[-1])"
   ]
  },
  {
   "cell_type": "code",
   "execution_count": 17,
   "id": "4e7a052d",
   "metadata": {},
   "outputs": [
    {
     "name": "stdout",
     "output_type": "stream",
     "text": [
      "19\n",
      "19\n"
     ]
    }
   ],
   "source": [
    "# Indexing multidimensional arrays\n",
    "B = np.array([ [[1,2,3], [4, 5, 6]],\n",
    "               [[7, 8, 9], [10, 11, 12]],\n",
    "               [[13, 14, 15], [16, 17, 18]],\n",
    "               [[19, 20, 21], [22, 23, 24]]\n",
    "             ])\n",
    "\n",
    "print(B[3][0][0])\n",
    "#another efficient way of accessing multi-dimensional array\n",
    "print(B[3, 0, 0])"
   ]
  },
  {
   "cell_type": "markdown",
   "id": "9af148e9",
   "metadata": {},
   "source": [
    "## Slicing"
   ]
  },
  {
   "cell_type": "code",
   "execution_count": 29,
   "id": "00e656bd",
   "metadata": {},
   "outputs": [
    {
     "name": "stdout",
     "output_type": "stream",
     "text": [
      "[0 1 2 3 4]\n",
      "[0 1 2 3]\n",
      "[6 7 8 9]\n"
     ]
    }
   ],
   "source": [
    "import numpy as np\n",
    "# one-dimensional array\n",
    "S = np.array([0, 1, 2, 3, 4, 5, 6, 7, 8, 9])\n",
    "print(S[0:5])\n",
    "print(S[:4])\n",
    "print(S[6:])"
   ]
  },
  {
   "cell_type": "code",
   "execution_count": 34,
   "id": "cbe26d6e",
   "metadata": {},
   "outputs": [
    {
     "name": "stdout",
     "output_type": "stream",
     "text": [
      "[[13 14 15]\n",
      " [23 24 25]]\n"
     ]
    }
   ],
   "source": [
    "#multidimensional slicing\n",
    "A = np.array([\n",
    "    [11, 12, 13, 14, 15],\n",
    "    [21, 22, 23, 24, 25],\n",
    "    [31, 32, 33, 34, 35]])\n",
    "\n",
    "print(A[:2, 2:])"
   ]
  },
  {
   "cell_type": "code",
   "execution_count": 42,
   "id": "00de46c0",
   "metadata": {},
   "outputs": [
    {
     "name": "stdout",
     "output_type": "stream",
     "text": [
      "[[ 0  1  2  3  4  5  6]\n",
      " [ 7  8  9 10 11 12 13]\n",
      " [14 15 16 17 18 19 20]\n",
      " [21 22 23 24 25 26 27]]\n",
      "[[ 0  3  6]\n",
      " [ 7 10 13]\n",
      " [14 17 20]\n",
      " [21 24 27]]\n"
     ]
    }
   ],
   "source": [
    "#the following example uses a third parameter \"step\"\n",
    "X = np.arange(28).reshape(4, 7)\n",
    "print(X)\n",
    "print(X[::, ::3])"
   ]
  },
  {
   "cell_type": "code",
   "execution_count": 56,
   "id": "80303819",
   "metadata": {},
   "outputs": [
    {
     "name": "stdout",
     "output_type": "stream",
     "text": [
      "[[[46 14  4]\n",
      "  [45 14  5]\n",
      "  [46 11  5]]\n",
      "\n",
      " [[47 13  2]\n",
      "  [48 15  5]\n",
      "  [52 15  1]]]\n"
     ]
    }
   ],
   "source": [
    "y = np.array([\n",
    "    [ [45, 12, 4], [45, 13, 5], [46, 12, 6] ],\n",
    "    [ [46, 14, 4], [45, 14, 5], [46, 11, 5] ],\n",
    "    [ [47, 13, 2], [48, 15, 5], [52, 15, 1] ] ])\n",
    "\n",
    "print(y[1:3, 0:3]) #equivalent to y[1:3, 0:3, :]"
   ]
  },
  {
   "cell_type": "markdown",
   "id": "77b1e4c8",
   "metadata": {},
   "source": [
    "A slicing operation on an array creates aview on the original array. This is prooven below. "
   ]
  },
  {
   "cell_type": "code",
   "execution_count": 65,
   "id": "69731358",
   "metadata": {},
   "outputs": [
    {
     "name": "stdout",
     "output_type": "stream",
     "text": [
      "[0 1 2 3 4 5 6 7 8 9]\n",
      "[ 0  1 22 23  4  5  6  7  8  9]\n"
     ]
    },
    {
     "data": {
      "text/plain": [
       "True"
      ]
     },
     "execution_count": 65,
     "metadata": {},
     "output_type": "execute_result"
    }
   ],
   "source": [
    "A = np.array([0, 1, 2, 3, 4, 5, 6, 7, 8, 9])\n",
    "print(A)\n",
    "S = A[2:6]\n",
    "S[0] = 22\n",
    "S[1] = 23\n",
    "print(A)\n",
    "\n",
    "#checks if two array names share the same memory block\n",
    "np.may_share_memory(A, S)"
   ]
  },
  {
   "cell_type": "markdown",
   "id": "9081cad2",
   "metadata": {},
   "source": [
    "Doing the similar thing with lists, we can see that we get a copy."
   ]
  },
  {
   "cell_type": "code",
   "execution_count": 2,
   "id": "f1497480",
   "metadata": {},
   "outputs": [
    {
     "name": "stdout",
     "output_type": "stream",
     "text": [
      "[0, 1, 2, 3, 4, 5, 6, 7, 8, 9]\n"
     ]
    },
    {
     "data": {
      "text/plain": [
       "False"
      ]
     },
     "execution_count": 2,
     "metadata": {},
     "output_type": "execute_result"
    }
   ],
   "source": [
    "import numpy as np\n",
    "\n",
    "lst = [0, 1, 2, 3, 4, 5, 6, 7, 8, 9]\n",
    "lst2 = lst[2:6]\n",
    "lst2[0] = 22\n",
    "lst2[1] = 23\n",
    "print(lst)\n",
    "np.may_share_memory(lst, lst2)"
   ]
  },
  {
   "cell_type": "markdown",
   "id": "253d33c7",
   "metadata": {},
   "source": [
    "## Creating arrays with ones, zeros and empty"
   ]
  },
  {
   "cell_type": "markdown",
   "id": "604207ee",
   "metadata": {},
   "source": [
    "### Method one"
   ]
  },
  {
   "cell_type": "code",
   "execution_count": 5,
   "id": "b5b3befc",
   "metadata": {},
   "outputs": [
    {
     "name": "stdout",
     "output_type": "stream",
     "text": [
      "[[1. 1. 1.]\n",
      " [1. 1. 1.]]\n",
      "[[1 1 1 1]\n",
      " [1 1 1 1]\n",
      " [1 1 1 1]]\n"
     ]
    }
   ],
   "source": [
    "#Creating ones\n",
    "E = np.ones((2,3))\n",
    "print(E)\n",
    "\n",
    "F = np.ones((3,4), dtype=int)\n",
    "print(F)"
   ]
  },
  {
   "cell_type": "code",
   "execution_count": 8,
   "id": "5398e938",
   "metadata": {},
   "outputs": [
    {
     "name": "stdout",
     "output_type": "stream",
     "text": [
      "[[0. 0.]\n",
      " [0. 0.]\n",
      " [0. 0.]]\n",
      "[[0 0 0]\n",
      " [0 0 0]]\n"
     ]
    }
   ],
   "source": [
    "#Creating zeros\n",
    "P = np.zeros((3,2))\n",
    "print(P)\n",
    "\n",
    "G = np.zeros((2,3), dtype=int)\n",
    "print(G)"
   ]
  },
  {
   "cell_type": "markdown",
   "id": "ae713faa",
   "metadata": {},
   "source": [
    "### Method two"
   ]
  },
  {
   "cell_type": "code",
   "execution_count": 12,
   "id": "f3cc68bf",
   "metadata": {},
   "outputs": [
    {
     "name": "stdout",
     "output_type": "stream",
     "text": [
      "[1 1 1 1 1 1 1]\n",
      "[0 0 0 0 0 0 0]\n"
     ]
    }
   ],
   "source": [
    "x = np.array([2, 3, 4, 5, 6, 7, 8])\n",
    "E = np.ones_like(x)\n",
    "print(E)\n",
    "F = np.zeros_like(x)\n",
    "print(F)"
   ]
  },
  {
   "cell_type": "markdown",
   "id": "d01f46c1",
   "metadata": {},
   "source": [
    "### Empty array"
   ]
  },
  {
   "cell_type": "code",
   "execution_count": 14,
   "id": "9f45b789",
   "metadata": {},
   "outputs": [
    {
     "name": "stdout",
     "output_type": "stream",
     "text": [
      "[[2.12199579e-314 2.12199579e-314 2.12199579e-314]\n",
      " [2.12199579e-314 2.12199579e-314 2.12199579e-314]]\n"
     ]
    }
   ],
   "source": [
    "w = np.empty((2,3))\n",
    "print(w)"
   ]
  },
  {
   "cell_type": "markdown",
   "id": "ea879583",
   "metadata": {},
   "source": [
    "## Copying Arrays"
   ]
  },
  {
   "cell_type": "markdown",
   "id": "407e7633",
   "metadata": {},
   "source": [
    "### Numpy.copy()"
   ]
  },
  {
   "cell_type": "code",
   "execution_count": 15,
   "id": "68f72cad",
   "metadata": {},
   "outputs": [
    {
     "name": "stdout",
     "output_type": "stream",
     "text": [
      "[[10  2  3]\n",
      " [ 4  5  6]]\n",
      "[[1 2 3]\n",
      " [4 5 6]]\n"
     ]
    }
   ],
   "source": [
    "x = np.array([[1, 2, 3], [4, 5, 6]])\n",
    "y = x.copy()\n",
    "\n",
    "x[0, 0] = 10\n",
    "print(x)\n",
    "print(y)"
   ]
  },
  {
   "cell_type": "markdown",
   "id": "14321517",
   "metadata": {},
   "source": [
    "### Ndarray.copy()"
   ]
  },
  {
   "cell_type": "code",
   "execution_count": 16,
   "id": "23a16756",
   "metadata": {},
   "outputs": [
    {
     "name": "stdout",
     "output_type": "stream",
     "text": [
      "[[1001   22   12]\n",
      " [  44   53   66]]\n",
      "[[42 22 12]\n",
      " [44 53 66]]\n"
     ]
    }
   ],
   "source": [
    "x = np.array([[42,22,12],[44,53,66]], order='F')\n",
    "y = x.copy()\n",
    "x[0,0] = 1001\n",
    "print(x)\n",
    "print(y)"
   ]
  },
  {
   "cell_type": "markdown",
   "id": "ac115b7e",
   "metadata": {},
   "source": [
    "## Identity Array"
   ]
  },
  {
   "cell_type": "code",
   "execution_count": 19,
   "id": "78c329d8",
   "metadata": {},
   "outputs": [
    {
     "name": "stdout",
     "output_type": "stream",
     "text": [
      "[[1 0 0 0]\n",
      " [0 1 0 0]\n",
      " [0 0 1 0]\n",
      " [0 0 0 1]]\n"
     ]
    }
   ],
   "source": [
    "#using the identity function\n",
    "y = np.identity(4, dtype=int)\n",
    "print(y)"
   ]
  },
  {
   "cell_type": "code",
   "execution_count": 23,
   "id": "c8e21ca9",
   "metadata": {},
   "outputs": [
    {
     "name": "stdout",
     "output_type": "stream",
     "text": [
      "[[0 1 0 0 0]\n",
      " [0 0 1 0 0]\n",
      " [0 0 0 1 0]\n",
      " [0 0 0 0 1]]\n"
     ]
    }
   ],
   "source": [
    "#using the eye function\n",
    "x = np.eye(4, 5, k=1, dtype=int)\n",
    "print(x)"
   ]
  },
  {
   "cell_type": "markdown",
   "id": "1bd5a1d9",
   "metadata": {},
   "source": [
    "## Excercise"
   ]
  },
  {
   "cell_type": "code",
   "execution_count": 34,
   "id": "d50b039e",
   "metadata": {},
   "outputs": [
    {
     "name": "stdout",
     "output_type": "stream",
     "text": [
      "[1 3 5 7]\n",
      "[8 7 6 5 4 3 2 1 0]\n"
     ]
    }
   ],
   "source": [
    "v = np.array([0, 1, 2, 3, 4, 5, 6, 7, 8])\n",
    "x = v[1::2]\n",
    "print(x)\n",
    "\n",
    "reverse_array = v[::-1]\n",
    "print(reverse_array)"
   ]
  },
  {
   "cell_type": "code",
   "execution_count": 44,
   "id": "d417d630",
   "metadata": {},
   "outputs": [
    {
     "name": "stdout",
     "output_type": "stream",
     "text": [
      "[[1 2 3]\n",
      " [4 5 6]\n",
      " [7 8 9]]\n",
      "[[3 2 1]\n",
      " [6 5 4]\n",
      " [9 8 7]]\n",
      "[[7 8 9]\n",
      " [4 5 6]\n",
      " [1 2 3]]\n",
      "[[9 8 7]\n",
      " [6 5 4]\n",
      " [3 2 1]]\n",
      "[[5]]\n"
     ]
    }
   ],
   "source": [
    "m = np.array([[1, 2, 3], [4, 5, 6], [7, 8, 9]])\n",
    "print(m)\n",
    "\n",
    "#elements in each row is in a reverse order\n",
    "n = m[::, ::-1]\n",
    "print(n)\n",
    "#rows in reverse order\n",
    "u = m[::-1, ::]\n",
    "print(u)\n",
    "#rows and column in reverse order\n",
    "print(m[::-1, ::-1])\n",
    "\n",
    "print(m[1:2, 1:2])"
   ]
  },
  {
   "cell_type": "markdown",
   "id": "b35c850a",
   "metadata": {},
   "source": [
    "## Data type objects, Dtype"
   ]
  },
  {
   "cell_type": "code",
   "execution_count": 47,
   "id": "963d4249",
   "metadata": {},
   "outputs": [
    {
     "name": "stdout",
     "output_type": "stream",
     "text": [
      "int16\n",
      "[[3.4, 8.7, 9.9], [1.1, -7.8, -0.7], [4.1, 12.3, 4.8]]\n",
      "[[ 3  8  9]\n",
      " [ 1 -7  0]\n",
      " [ 4 12  4]]\n"
     ]
    },
    {
     "data": {
      "text/plain": [
       "array([[ 3,  8,  9],\n",
       "       [ 1, -7,  0],\n",
       "       [ 4, 12,  4]], dtype=int16)"
      ]
     },
     "execution_count": 47,
     "metadata": {},
     "output_type": "execute_result"
    }
   ],
   "source": [
    "data_type = np.dtype(np.int16)\n",
    "print(data_type)\n",
    "\n",
    "lst = [ [3.4, 8.7, 9.9],[1.1, -7.8, -0.7], [4.1, 12.3, 4.8] ]\n",
    "print(lst)\n",
    "a = np.array(lst, dtype=data_type)\n",
    "print(a)"
   ]
  },
  {
   "cell_type": "markdown",
   "id": "c106b158",
   "metadata": {},
   "source": [
    "### Structured arrays"
   ]
  },
  {
   "cell_type": "code",
   "execution_count": 54,
   "id": "2c855c3d",
   "metadata": {},
   "outputs": [
    {
     "name": "stdout",
     "output_type": "stream",
     "text": [
      "[(393,) (337,) (256,)]\n",
      "[393 337 256]\n"
     ]
    }
   ],
   "source": [
    "import numpy as np\n",
    "\n",
    "dt = np.dtype([('Density', np.int32)])\n",
    "x = np.array([(393,), (337,), (256,)], dtype=dt)\n",
    "\n",
    "print(x)\n",
    "print(x['Density'])"
   ]
  },
  {
   "cell_type": "markdown",
   "id": "f95a6b1c",
   "metadata": {},
   "source": [
    "I'll add the country name, the area and the population to the data type"
   ]
  },
  {
   "cell_type": "code",
   "execution_count": 64,
   "id": "8e52b27a",
   "metadata": {},
   "outputs": [
    {
     "name": "stdout",
     "output_type": "stream",
     "text": [
      "[b'Netherlands' b'Belgium' b'United Kingdom' b'Germany' b'Liechtenstein'\n",
      " b'Italy' b'Switzerland' b'Luxembourg' b'France' b'Austria' b'Greece'\n",
      " b'Ireland' b'Sweden' b'Finland' b'Norway']\n"
     ]
    }
   ],
   "source": [
    "dt = np.dtype([('Country', 'S20'), \n",
    "               ('Density', 'i4'), \n",
    "               ('area', 'i4'), \n",
    "               ('population', 'i4')])\n",
    "\n",
    "population_table = np.array([\n",
    "    ('Netherlands', 393, 41526, 16928800),\n",
    "    ('Belgium', 337, 30510, 11007020),\n",
    "    ('United Kingdom', 256, 243610, 62262000),\n",
    "    ('Germany', 233, 357021, 81799600),\n",
    "    ('Liechtenstein', 205, 160, 32842),\n",
    "    ('Italy', 192, 301230, 59715625),\n",
    "    ('Switzerland', 177, 41290, 7301994),\n",
    "    ('Luxembourg', 173, 2586, 512000),\n",
    "    ('France', 111, 547030, 63601002),\n",
    "    ('Austria', 97, 83858, 8169929),\n",
    "    ('Greece', 81, 131940, 11606813),\n",
    "    ('Ireland', 65, 70280, 4581269),\n",
    "    ('Sweden', 20, 449964, 9515744),\n",
    "    ('Finland', 16, 338424, 5410233),\n",
    "    ('Norway', 13, 385252, 5033675)], dtype=dt)\n",
    "\n",
    "#I can access each column individually\n",
    "print(population_table['Country'])"
   ]
  },
  {
   "cell_type": "markdown",
   "id": "e2711ea4",
   "metadata": {},
   "source": [
    "### Unicode strings in array\n",
    "Strings in my previous array have been prefixed with a lower case \"b\". This means that I have created binary strings with the definition \"('country', 'S20')\". To get unicode strings I exchange this with the definition \"('country', np.unicode, 20)\""
   ]
  },
  {
   "cell_type": "code",
   "execution_count": 66,
   "id": "070f9d76",
   "metadata": {},
   "outputs": [
    {
     "name": "stdout",
     "output_type": "stream",
     "text": [
      "['Netherlands' 'Belgium' 'United Kingdom' 'Germany' 'Liechtenstein'\n",
      " 'Italy' 'Switzerland' 'Luxembourg' 'France' 'Austria' 'Greece' 'Ireland'\n",
      " 'Sweden' 'Finland' 'Norway']\n"
     ]
    }
   ],
   "source": [
    "dt = np.dtype([('Country', np.compat.unicode, 20), \n",
    "               ('Density', 'i4'), \n",
    "               ('area', 'i4'), \n",
    "               ('population', 'i4')])\n",
    "\n",
    "population_table = np.array([\n",
    "    ('Netherlands', 393, 41526, 16928800),\n",
    "    ('Belgium', 337, 30510, 11007020),\n",
    "    ('United Kingdom', 256, 243610, 62262000),\n",
    "    ('Germany', 233, 357021, 81799600),\n",
    "    ('Liechtenstein', 205, 160, 32842),\n",
    "    ('Italy', 192, 301230, 59715625),\n",
    "    ('Switzerland', 177, 41290, 7301994),\n",
    "    ('Luxembourg', 173, 2586, 512000),\n",
    "    ('France', 111, 547030, 63601002),\n",
    "    ('Austria', 97, 83858, 8169929),\n",
    "    ('Greece', 81, 131940, 11606813),\n",
    "    ('Ireland', 65, 70280, 4581269),\n",
    "    ('Sweden', 20, 449964, 9515744),\n",
    "    ('Finland', 16, 338424, 5410233),\n",
    "    ('Norway', 13, 385252, 5033675)], dtype=dt)\n",
    "\n",
    "#I can access each column individually\n",
    "print(population_table['Country'])"
   ]
  },
  {
   "cell_type": "markdown",
   "id": "0a4133a8",
   "metadata": {},
   "source": [
    "### Input and Output of structured arrays"
   ]
  },
  {
   "cell_type": "code",
   "execution_count": 67,
   "id": "d0044082",
   "metadata": {},
   "outputs": [],
   "source": [
    "np.savetxt(\"population_table.csv\",\n",
    "           population_table,\n",
    "           fmt=\"%s;%d;%d;%d\",\n",
    "           delimiter=\";\"\n",
    "          )"
   ]
  },
  {
   "cell_type": "code",
   "execution_count": 69,
   "id": "3346a931",
   "metadata": {},
   "outputs": [
    {
     "name": "stdout",
     "output_type": "stream",
     "text": [
      "[('Netherlands', 393,  41526, 16928800) ('Belgium', 337,  30510, 11007020)\n",
      " ('United Kingdom', 256, 243610, 62262000)\n",
      " ('Germany', 233, 357021, 81799600)\n",
      " ('Liechtenstein', 205,    160,    32842) ('Italy', 192, 301230, 59715625)\n",
      " ('Switzerland', 177,  41290,  7301994)\n",
      " ('Luxembourg', 173,   2586,   512000) ('France', 111, 547030, 63601002)\n",
      " ('Austria',  97,  83858,  8169929) ('Greece',  81, 131940, 11606813)\n",
      " ('Ireland',  65,  70280,  4581269) ('Sweden',  20, 449964,  9515744)\n",
      " ('Finland',  16, 338424,  5410233) ('Norway',  13, 385252,  5033675)]\n"
     ]
    }
   ],
   "source": [
    "dt = np.dtype([('Country', np.compat.unicode, 20), \n",
    "               ('Density', 'i4'), \n",
    "               ('area', 'i4'), \n",
    "               ('population', 'i4')])\n",
    "\n",
    "x = np.genfromtxt(\"population_table.csv\",\n",
    "                  dtype=dt,\n",
    "                  delimiter=\";\")\n",
    "\n",
    "print(x)"
   ]
  },
  {
   "cell_type": "markdown",
   "id": "63221cad",
   "metadata": {},
   "source": [
    "### Excercise"
   ]
  },
  {
   "cell_type": "code",
   "execution_count": 79,
   "id": "5939ca09",
   "metadata": {},
   "outputs": [
    {
     "name": "stdout",
     "output_type": "stream",
     "text": [
      "[1 2 3 4 5]\n",
      "569\n"
     ]
    }
   ],
   "source": [
    "data_type = np.dtype([('product ID', 'i4'),\n",
    "                      ('price', 'i4')])\n",
    "\n",
    "product_prices = np.array([\n",
    "    ('1', 40),\n",
    "    ('2', 70),\n",
    "    ('3', 569),\n",
    "    ('4', 30),\n",
    "    ('5', 90)], dtype=data_type)\n",
    "\n",
    "print(product_prices['product ID'])\n",
    "print(product_prices['price'][2])"
   ]
  },
  {
   "cell_type": "markdown",
   "id": "6d7cbb2e",
   "metadata": {},
   "source": [
    "Figure out a data type definition for time records with entries for hours, minutes and seconds."
   ]
  },
  {
   "cell_type": "code",
   "execution_count": 83,
   "id": "ef509e9f",
   "metadata": {},
   "outputs": [
    {
     "name": "stdout",
     "output_type": "stream",
     "text": [
      "[(11, 38, 5) (14, 56, 0) ( 3,  9, 1)]\n",
      "(11, 38, 5)\n",
      "(11, 42, 17)\n"
     ]
    }
   ],
   "source": [
    "time_type = np.dtype( [('h', int), \n",
    "                       ('min', int),\n",
    "                       ('sec', int)])\n",
    "\n",
    "\n",
    "times = np.array([(11, 38, 5),\n",
    "                  (14, 56, 0),\n",
    "                  (3, 9, 1)], dtype=time_type)\n",
    "\n",
    "print(times)\n",
    "print(times[0])\n",
    "\n",
    "# reset the first time record:\n",
    "times[0] = (11, 42, 17)\n",
    "print(times[0])"
   ]
  },
  {
   "cell_type": "markdown",
   "id": "30b8c1c1",
   "metadata": {},
   "source": [
    "### A more complex example"
   ]
  },
  {
   "cell_type": "code",
   "execution_count": 84,
   "id": "bcd795f3",
   "metadata": {},
   "outputs": [
    {
     "name": "stdout",
     "output_type": "stream",
     "text": [
      "[((11, 42, 17), 20.8) ((13, 19,  3), 23.2)]\n",
      "[(11, 42, 17) (13, 19,  3)]\n",
      "[11 13]\n",
      "[20.8 23.2]\n"
     ]
    }
   ],
   "source": [
    "time_type = np.dtype( np.dtype([('time', [('h', int),\n",
    "                                          ('min', int),\n",
    "                                          ('sec', int)]), ('temperature', float)] ))\n",
    "\n",
    "times = np.array([ ((11, 42, 17), 20.8),\n",
    "                   ((13, 19, 3), 23.2)], dtype=time_type)\n",
    "\n",
    "print(times)\n",
    "print(times['time'])\n",
    "print(times['time']['h'])\n",
    "print(times['temperature'])"
   ]
  },
  {
   "cell_type": "code",
   "execution_count": 8,
   "id": "a4a5d0cc",
   "metadata": {},
   "outputs": [
    {
     "name": "stdout",
     "output_type": "stream",
     "text": [
      "Frankfurt\n"
     ]
    }
   ],
   "source": [
    "import pickle\n",
    "import numpy as np\n",
    "\n",
    "fh = open(\"cities_and_times.pkl\", \"br\")\n",
    "cities_and_times = pickle.load(fh)\n",
    "\n",
    "#Turning my data into structured array\n",
    "time_type = np.dtype([('city', 'U30'), ('day', 'U3'), ('time',[('h', int), ('min', int)])])\n",
    "times = np.array(cities_and_times, dtype=time_type)\n",
    "print(times[27]['city'])"
   ]
  },
  {
   "cell_type": "markdown",
   "id": "696bcfac",
   "metadata": {},
   "source": [
    "## Numerical operations on Numpy arrays"
   ]
  },
  {
   "cell_type": "markdown",
   "id": "3db20d94",
   "metadata": {},
   "source": [
    "### Using scalars"
   ]
  },
  {
   "cell_type": "code",
   "execution_count": 19,
   "id": "c4c896a3",
   "metadata": {},
   "outputs": [
    {
     "name": "stdout",
     "output_type": "stream",
     "text": [
      "[3 4 5 6 7 8]\n",
      "91\n"
     ]
    }
   ],
   "source": [
    "import numpy as np\n",
    "\n",
    "#adding scalars to arrays\n",
    "lst = [1, 2, 3, 4, 5, 6]\n",
    "lst2 = [1, 2, 3, 4, 5, 6]\n",
    "v = np.array(lst)\n",
    "x = np.array(lst2)\n",
    "V = v + 2\n",
    "print(V)\n",
    "print(np.dot(lst, lst2))"
   ]
  },
  {
   "cell_type": "code",
   "execution_count": 5,
   "id": "b5dd88ed",
   "metadata": {},
   "outputs": [
    {
     "name": "stdout",
     "output_type": "stream",
     "text": [
      "[ 2  4  6  8 10 12]\n"
     ]
    }
   ],
   "source": [
    "# multiplication\n",
    "print(v * 2)"
   ]
  },
  {
   "cell_type": "code",
   "execution_count": 14,
   "id": "3bfbd951",
   "metadata": {},
   "outputs": [
    {
     "name": "stdout",
     "output_type": "stream",
     "text": [
      "[0.5 1.  1.5 2.  2.5 3. ]\n"
     ]
    }
   ],
   "source": [
    "#Division\n",
    "print(v / 2)"
   ]
  },
  {
   "cell_type": "code",
   "execution_count": 9,
   "id": "4032a150",
   "metadata": {},
   "outputs": [
    {
     "name": "stdout",
     "output_type": "stream",
     "text": [
      "[0 1 2 3 4 5]\n"
     ]
    }
   ],
   "source": [
    "#subtraction\n",
    "print(v - 1)"
   ]
  },
  {
   "cell_type": "code",
   "execution_count": 10,
   "id": "8db8bfe0",
   "metadata": {},
   "outputs": [
    {
     "name": "stdout",
     "output_type": "stream",
     "text": [
      "[ 1  4  9 16 25 36]\n"
     ]
    }
   ],
   "source": [
    "print(v  ** 2)"
   ]
  },
  {
   "cell_type": "markdown",
   "id": "19e634e8",
   "metadata": {},
   "source": [
    "### Arithmetic operations with two arrays"
   ]
  },
  {
   "cell_type": "code",
   "execution_count": 17,
   "id": "6c47edaf",
   "metadata": {},
   "outputs": [
    {
     "name": "stdout",
     "output_type": "stream",
     "text": [
      "\n",
      " Adding two arrays:\n",
      "[[ 2  3  4]\n",
      " [ 5  6  7]\n",
      " [ 8  9 10]]\n",
      "\n",
      " Multiplying two arrays:\n",
      "[[ 2  4  6]\n",
      " [ 8 10 12]\n",
      " [14 16 18]]\n"
     ]
    }
   ],
   "source": [
    "a = np.array([ [1, 2, 3], [4, 5, 6], [7, 8, 9]])\n",
    "b = np.ones((3,3), dtype=int)\n",
    "print(\"\\n Adding two arrays:\")\n",
    "print(a + b)\n",
    "\n",
    "print(\"\\n Multiplying two arrays:\") #The elements are component-wise multiplied\n",
    "print(a * (b + 1))"
   ]
  },
  {
   "cell_type": "markdown",
   "id": "2a1cbac7",
   "metadata": {},
   "source": [
    "### Matrix multiplication"
   ]
  },
  {
   "cell_type": "code",
   "execution_count": 20,
   "id": "d50d602f",
   "metadata": {},
   "outputs": [
    {
     "name": "stdout",
     "output_type": "stream",
     "text": [
      "[[ 6  6  6]\n",
      " [15 15 15]\n",
      " [24 24 24]]\n",
      "3\n"
     ]
    }
   ],
   "source": [
    "print(np.dot(a, b))#For 2-D array the dot product is equivalent to matrix multiplication"
   ]
  },
  {
   "cell_type": "code",
   "execution_count": 25,
   "id": "21c30959",
   "metadata": {},
   "outputs": [
    {
     "name": "stdout",
     "output_type": "stream",
     "text": [
      "3\n"
     ]
    }
   ],
   "source": [
    "n = np.array([[1, 2, 3], [4, 5, 6]])\n",
    "print(n.shape[1])"
   ]
  },
  {
   "cell_type": "markdown",
   "id": "f2001841",
   "metadata": {},
   "source": [
    "### Matrices vs Two dimensional arrays"
   ]
  },
  {
   "cell_type": "code",
   "execution_count": 27,
   "id": "6edda596",
   "metadata": {},
   "outputs": [
    {
     "name": "stdout",
     "output_type": "stream",
     "text": [
      "[[ 3  4  3]\n",
      " [ 2  4  6]\n",
      " [-3 -6 -9]]\n",
      "[[ 2  0 -2]\n",
      " [ 6  4  2]\n",
      " [ 9  6  3]]\n"
     ]
    }
   ],
   "source": [
    "A = np.array([ [1, 2, 3], [2, 2, 2], [3, 3, 3] ])\n",
    "B = np.array([ [3, 2, 1], [1, 2, 3], [-1, -2, -3] ])\n",
    "\n",
    "r = A * B\n",
    "print(r)\n",
    "\n",
    "ma = np.mat(A)\n",
    "mb = np.mat(B)\n",
    "print(ma * mb)"
   ]
  },
  {
   "cell_type": "markdown",
   "id": "561f8556",
   "metadata": {},
   "source": [
    "### Comparison operators"
   ]
  },
  {
   "cell_type": "code",
   "execution_count": 28,
   "id": "8260156d",
   "metadata": {},
   "outputs": [
    {
     "data": {
      "text/plain": [
       "array([[False,  True, False],\n",
       "       [False,  True, False],\n",
       "       [False, False, False]])"
      ]
     },
     "execution_count": 28,
     "metadata": {},
     "output_type": "execute_result"
    }
   ],
   "source": [
    "A = np.array([ [1, 2, 3], [2, 2, 2], [3, 3, 3] ])\n",
    "B = np.array([ [3, 2, 1], [1, 2, 3], [-1, -2, -3] ])\n",
    "\n",
    "A == B #The comparisons are performed elementwise"
   ]
  },
  {
   "cell_type": "code",
   "execution_count": 30,
   "id": "ad9f336b",
   "metadata": {},
   "outputs": [
    {
     "name": "stdout",
     "output_type": "stream",
     "text": [
      "False\n",
      "True\n"
     ]
    }
   ],
   "source": [
    "#It is also possible to compare complete arrays for equality as well\n",
    "print(np.array_equal(A, B))\n",
    "print(np.array_equal(A, A))"
   ]
  },
  {
   "cell_type": "markdown",
   "id": "b1be4c8f",
   "metadata": {},
   "source": [
    "### Logical operators"
   ]
  },
  {
   "cell_type": "code",
   "execution_count": 32,
   "id": "ae8a392d",
   "metadata": {},
   "outputs": [
    {
     "name": "stdout",
     "output_type": "stream",
     "text": [
      "[[ True  True]\n",
      " [ True False]]\n",
      "[[ True False]\n",
      " [False False]]\n"
     ]
    }
   ],
   "source": [
    "a = np.array([[True, True], [False, False]])\n",
    "b = np.array([[True, False], [True, False]])\n",
    "\n",
    "print(np.logical_or(a, b))\n",
    "print(np.logical_and(a, b))"
   ]
  },
  {
   "cell_type": "markdown",
   "id": "e67559ed",
   "metadata": {},
   "source": [
    "### Applying operators on arrays with different shapes\n",
    "### Broadcasting"
   ]
  },
  {
   "cell_type": "code",
   "execution_count": 34,
   "id": "9819ef9c",
   "metadata": {},
   "outputs": [
    {
     "name": "stdout",
     "output_type": "stream",
     "text": [
      "[[11 24 39]\n",
      " [21 44 69]\n",
      " [31 64 99]]\n",
      "[[12 14 16]\n",
      " [22 24 26]\n",
      " [32 34 36]]\n"
     ]
    }
   ],
   "source": [
    "#first example\n",
    "A = np.array([ [11, 12, 13], [21, 22, 23], [31, 32, 33] ])\n",
    "B = np.array([1, 2, 3])\n",
    "\n",
    "print(A * B)\n",
    "print(A + B)"
   ]
  },
  {
   "cell_type": "code",
   "execution_count": 38,
   "id": "c63d3b7c",
   "metadata": {},
   "outputs": [
    {
     "name": "stdout",
     "output_type": "stream",
     "text": [
      "[[1 2 3]\n",
      " [1 2 3]\n",
      " [1 2 3]]\n"
     ]
    }
   ],
   "source": [
    "#B is treated as if it were construed like this:\n",
    "B = np.array([[1, 2, 3]] * 3)\n",
    "print(B)"
   ]
  },
  {
   "cell_type": "code",
   "execution_count": 49,
   "id": "dce82058",
   "metadata": {},
   "outputs": [
    {
     "name": "stdout",
     "output_type": "stream",
     "text": [
      "[[1]\n",
      " [2]\n",
      " [3]]\n"
     ]
    }
   ],
   "source": [
    "#I need to know how to turn a row vector into a column vector\n",
    "#second example\n",
    "B = np.array([1, 2, 3])\n",
    "c = B[:, np.newaxis]\n",
    "print(c)"
   ]
  },
  {
   "cell_type": "code",
   "execution_count": 53,
   "id": "1aa65792",
   "metadata": {},
   "outputs": [
    {
     "name": "stdout",
     "output_type": "stream",
     "text": [
      "[[11 12 13]\n",
      " [42 44 46]\n",
      " [93 96 99]]\n",
      "[[11 12 13]\n",
      " [42 44 46]\n",
      " [93 96 99]]\n"
     ]
    }
   ],
   "source": [
    "print(A * c)\n",
    "#or\n",
    "c = B.transpose()\n",
    "print(A * c)"
   ]
  },
  {
   "cell_type": "markdown",
   "id": "7e713334",
   "metadata": {},
   "source": [
    "### Distance matrix"
   ]
  },
  {
   "cell_type": "code",
   "execution_count": 58,
   "id": "7332ca0d",
   "metadata": {},
   "outputs": [
    {
     "name": "stdout",
     "output_type": "stream",
     "text": [
      "[   0 1498 1063 1968 1498 1758 1469 1472 2230 2391 1138  505]\n",
      "[[   0 1498 1063 1968 1498 1758 1469 1472 2230 2391 1138  505]\n",
      " [1498    0  435  470    0  260   29   26  732  893  360  993]\n",
      " [1063  435    0  905  435  695  406  409 1167 1328   75  558]\n",
      " [1968  470  905    0  470  210  499  496  262  423  830 1463]\n",
      " [1498    0  435  470    0  260   29   26  732  893  360  993]\n",
      " [1758  260  695  210  260    0  289  286  472  633  620 1253]\n",
      " [1469   29  406  499   29  289    0    3  761  922  331  964]\n",
      " [1472   26  409  496   26  286    3    0  758  919  334  967]\n",
      " [2230  732 1167  262  732  472  761  758    0  161 1092 1725]\n",
      " [2391  893 1328  423  893  633  922  919  161    0 1253 1886]\n",
      " [1138  360   75  830  360  620  331  334 1092 1253    0  633]\n",
      " [ 505  993  558 1463  993 1253  964  967 1725 1886  633    0]]\n"
     ]
    }
   ],
   "source": [
    "cities = [\"Barcelona\", \"Berlin\", \"Brussels\", \"Bucharest\",\n",
    "          \"Budapest\", \"Copenhagen\", \"Dublin\", \"Hamburg\", \"Istanbul\",\n",
    "          \"Kiev\", \"London\", \"Madrid\", \"Milan\", \"Moscow\", \"Munich\",\n",
    "          \"Paris\", \"Prague\", \"Rome\", \"Saint Petersburg\",\n",
    "          \"Stockholm\", \"Vienna\", \"Warsaw\"]\n",
    "dist2barcelona = [0, 1498, 1063, 1968, 1498, 1758, 1469, 1472, 2230, 2391, 1138, \n",
    "                  505, 725, 3007, 1055, 833, 1354, 857, 2813, 2277, 1347, 1862]\n",
    "dists = np.array(dist2barcelona[:12])\n",
    "print(dists)\n",
    "print(np.abs(dists - dists[:, np.newaxis]))"
   ]
  },
  {
   "cell_type": "markdown",
   "id": "d62c3126",
   "metadata": {},
   "source": [
    "### 3-dimensional broadcasting"
   ]
  },
  {
   "cell_type": "code",
   "execution_count": 59,
   "id": "40eb8a28",
   "metadata": {},
   "outputs": [
    {
     "name": "stdout",
     "output_type": "stream",
     "text": [
      "[[[ 9 16 49]\n",
      "  [ 5  0  1]\n",
      "  [ 2  2 15]]\n",
      "\n",
      " [[ 3  0 -7]\n",
      "  [ 8  0 -4]\n",
      "  [ 5  4  3]]\n",
      "\n",
      " [[ 6  4 21]\n",
      "  [ 1  0 -4]\n",
      "  [ 5 -4 12]]]\n"
     ]
    }
   ],
   "source": [
    "A = np.array([ [[3, 4, 7], [5, 0, -1] , [2, 1, 5]],\n",
    "               [[1, 0, -1], [8, 2, 4], [5, 2, 1]],\n",
    "               [[2, 1, 3], [1, 9, 4], [5, -2, 4]] ])\n",
    "\n",
    "B = np.array([ [[3, 4, 7], [1, 0, -1], [1, 2, 3]] ])\n",
    "print(A * B)"
   ]
  },
  {
   "cell_type": "code",
   "execution_count": 79,
   "id": "482072ef",
   "metadata": {},
   "outputs": [
    {
     "name": "stdout",
     "output_type": "stream",
     "text": [
      "[[1 2 3]]\n",
      "(3, 3)\n",
      "(3, 1, 3)\n"
     ]
    }
   ],
   "source": [
    "B = np.array([1, 2, 3])\n",
    "c = B[np.newaxis, :]\n",
    "print(c)\n",
    "d = np.concatenate((c, c, c)).transpose()\n",
    "print(d.shape)\n",
    "e = d[:, np.newaxis]\n",
    "print(e.shape)"
   ]
  },
  {
   "cell_type": "markdown",
   "id": "7815501f",
   "metadata": {},
   "source": [
    "## Numpy array: Concatening, flattening and adding dimensions"
   ]
  },
  {
   "cell_type": "markdown",
   "id": "bda99bf3",
   "metadata": {},
   "source": [
    "### Flatten and reshape arrays\n",
    "### Flatten"
   ]
  },
  {
   "cell_type": "code",
   "execution_count": 81,
   "id": "a10c64aa",
   "metadata": {},
   "outputs": [
    {
     "name": "stdout",
     "output_type": "stream",
     "text": [
      "[ 3  4  7  5  0 -1  2  1  5  1  0 -1  8  2  4  5  2  1  2  1  3  1  9  4\n",
      "  5 -2  4]\n",
      "[ 3  1  2  5  8  1  2  5  5  4  0  1  0  2  9  1  2 -2  7 -1  3 -1  4  4\n",
      "  5  1  4]\n"
     ]
    }
   ],
   "source": [
    "A = np.array([ [[3, 4, 7], [5, 0, -1] , [2, 1, 5]],\n",
    "               [[1, 0, -1], [8, 2, 4], [5, 2, 1]],\n",
    "               [[2, 1, 3], [1, 9, 4], [5, -2, 4]] ])\n",
    "\n",
    "flattened_A = A.flatten() #the default order is order 'C'\n",
    "print(flattened_A)\n",
    "print(A.flatten(order='F')) #flattening using order 'F'"
   ]
  },
  {
   "cell_type": "markdown",
   "id": "a279a768",
   "metadata": {},
   "source": [
    "### Ravel"
   ]
  },
  {
   "cell_type": "code",
   "execution_count": 83,
   "id": "3cf4280a",
   "metadata": {},
   "outputs": [
    {
     "name": "stdout",
     "output_type": "stream",
     "text": [
      "[ 3  4  7  5  0 -1  2  1  5  1  0 -1  8  2  4  5  2  1  2  1  3  1  9  4\n",
      "  5 -2  4]\n",
      "[ 3  1  2  5  8  1  2  5  5  4  0  1  0  2  9  1  2 -2  7 -1  3 -1  4  4\n",
      "  5  1  4]\n"
     ]
    }
   ],
   "source": [
    "print(A.ravel())\n",
    "print(A.ravel(order='F')) #same as flatten order 'F'"
   ]
  },
  {
   "cell_type": "markdown",
   "id": "cac5cdeb",
   "metadata": {},
   "source": [
    "### Reshape"
   ]
  },
  {
   "cell_type": "code",
   "execution_count": 89,
   "id": "7b1426f5",
   "metadata": {},
   "outputs": [
    {
     "name": "stdout",
     "output_type": "stream",
     "text": [
      "[[[ 0  1  2]\n",
      "  [ 3  4  5]\n",
      "  [ 6  7  8]]\n",
      "\n",
      " [[ 9 10 11]\n",
      "  [12 13 14]\n",
      "  [15 16 17]]\n",
      "\n",
      " [[18 19 20]\n",
      "  [21 22 23]\n",
      "  [24 25 26]]]\n"
     ]
    }
   ],
   "source": [
    "x = np.array(range(27))\n",
    "y = x.reshape((3, 3, 3))\n",
    "print(y)"
   ]
  },
  {
   "cell_type": "markdown",
   "id": "7d8c4c44",
   "metadata": {},
   "source": [
    "### Concatenating arrays"
   ]
  },
  {
   "cell_type": "code",
   "execution_count": 90,
   "id": "193f47c4",
   "metadata": {},
   "outputs": [
    {
     "name": "stdout",
     "output_type": "stream",
     "text": [
      "[11 22 18  7  6  1  3  5]\n"
     ]
    }
   ],
   "source": [
    "x = np.array([11,22])\n",
    "y = np.array([18,7,6])\n",
    "z = np.array([1,3,5])\n",
    "c = np.concatenate((x, y, z))\n",
    "print(c)"
   ]
  },
  {
   "cell_type": "code",
   "execution_count": 92,
   "id": "79e87273",
   "metadata": {},
   "outputs": [
    {
     "name": "stdout",
     "output_type": "stream",
     "text": [
      "[[[  0   1]\n",
      "  [  2   3]\n",
      "  [  4   5]\n",
      "  [  6   7]]\n",
      "\n",
      " [[  8   9]\n",
      "  [ 10  11]\n",
      "  [ 12  13]\n",
      "  [ 14  15]]\n",
      "\n",
      " [[ 16  17]\n",
      "  [ 18  19]\n",
      "  [ 20  21]\n",
      "  [ 22  23]]\n",
      "\n",
      " [[100 101]\n",
      "  [102 103]\n",
      "  [104 105]\n",
      "  [106 107]]\n",
      "\n",
      " [[108 109]\n",
      "  [110 111]\n",
      "  [112 113]\n",
      "  [114 115]]\n",
      "\n",
      " [[116 117]\n",
      "  [118 119]\n",
      "  [120 121]\n",
      "  [122 123]]]\n"
     ]
    }
   ],
   "source": [
    "#multidimensional arrays\n",
    "\n",
    "x = np.array(range(24))\n",
    "x = x.reshape((3,4,2))\n",
    "y = np.array(range(100,124))\n",
    "y = y.reshape((3,4,2))\n",
    "\n",
    "z = np.concatenate((x, y))\n",
    "print(z)"
   ]
  },
  {
   "cell_type": "code",
   "execution_count": 93,
   "id": "e4a5db20",
   "metadata": {},
   "outputs": [
    {
     "name": "stdout",
     "output_type": "stream",
     "text": [
      "[[[  0   1]\n",
      "  [  2   3]\n",
      "  [  4   5]\n",
      "  [  6   7]\n",
      "  [100 101]\n",
      "  [102 103]\n",
      "  [104 105]\n",
      "  [106 107]]\n",
      "\n",
      " [[  8   9]\n",
      "  [ 10  11]\n",
      "  [ 12  13]\n",
      "  [ 14  15]\n",
      "  [108 109]\n",
      "  [110 111]\n",
      "  [112 113]\n",
      "  [114 115]]\n",
      "\n",
      " [[ 16  17]\n",
      "  [ 18  19]\n",
      "  [ 20  21]\n",
      "  [ 22  23]\n",
      "  [116 117]\n",
      "  [118 119]\n",
      "  [120 121]\n",
      "  [122 123]]]\n"
     ]
    }
   ],
   "source": [
    "z = np.concatenate((x, y), axis=1)\n",
    "print(z)"
   ]
  },
  {
   "cell_type": "markdown",
   "id": "bdaeb320",
   "metadata": {},
   "source": [
    "### Adding new dimensions"
   ]
  },
  {
   "cell_type": "code",
   "execution_count": 94,
   "id": "e4980410",
   "metadata": {},
   "outputs": [
    {
     "name": "stdout",
     "output_type": "stream",
     "text": [
      "[[ 2]\n",
      " [ 5]\n",
      " [18]\n",
      " [14]\n",
      " [ 4]]\n"
     ]
    }
   ],
   "source": [
    "x = np.array([2,5,18,14,4])\n",
    "y = x[:, np.newaxis]\n",
    "print(y)"
   ]
  },
  {
   "cell_type": "markdown",
   "id": "3022b3fa",
   "metadata": {},
   "source": [
    "### Vector stacking"
   ]
  },
  {
   "cell_type": "code",
   "execution_count": 95,
   "id": "4a2e56db",
   "metadata": {},
   "outputs": [
    {
     "name": "stdout",
     "output_type": "stream",
     "text": [
      "[[3 4 5]\n",
      " [1 9 0]]\n"
     ]
    }
   ],
   "source": [
    "A = np.array([3, 4, 5])\n",
    "B = np.array([1,9,0])\n",
    "\n",
    "print(np.row_stack((A, B)))"
   ]
  },
  {
   "cell_type": "code",
   "execution_count": 96,
   "id": "088e0c3b",
   "metadata": {},
   "outputs": [
    {
     "name": "stdout",
     "output_type": "stream",
     "text": [
      "[[3 1]\n",
      " [4 9]\n",
      " [5 0]]\n"
     ]
    }
   ],
   "source": [
    "print(np.column_stack((A, B)))"
   ]
  },
  {
   "cell_type": "code",
   "execution_count": 99,
   "id": "fbb9e140",
   "metadata": {},
   "outputs": [
    {
     "name": "stdout",
     "output_type": "stream",
     "text": [
      "[[3 3]\n",
      " [4 4]\n",
      " [5 5]]\n"
     ]
    }
   ],
   "source": [
    "print(np.column_stack((A, A)))"
   ]
  },
  {
   "cell_type": "code",
   "execution_count": 103,
   "id": "5b7d64ef",
   "metadata": {},
   "outputs": [
    {
     "name": "stdout",
     "output_type": "stream",
     "text": [
      "[[3 4 5 3 4 5]\n",
      " [1 9 0 1 9 0]\n",
      " [4 6 8 4 6 8]]\n",
      "[[3 3]\n",
      " [4 4]\n",
      " [5 5]]\n"
     ]
    }
   ],
   "source": [
    "A = np.array([[3, 4, 5],\n",
    "              [1, 9, 0],\n",
    "              [4, 6, 8] ])\n",
    "print(np.column_stack((A, A)))\n",
    "print(np.column_stack((A[0], A[0])))"
   ]
  },
  {
   "cell_type": "code",
   "execution_count": 105,
   "id": "500d52a3",
   "metadata": {},
   "outputs": [
    {
     "name": "stdout",
     "output_type": "stream",
     "text": [
      "[[[3 3 3]\n",
      "  [4 4 4]\n",
      "  [5 5 5]]\n",
      "\n",
      " [[1 1 1]\n",
      "  [9 9 9]\n",
      "  [0 0 0]]\n",
      "\n",
      " [[4 4 4]\n",
      "  [6 6 6]\n",
      "  [8 8 8]]]\n"
     ]
    }
   ],
   "source": [
    "print(np.dstack((A, A, A)))"
   ]
  },
  {
   "cell_type": "markdown",
   "id": "b5d75d7e",
   "metadata": {},
   "source": [
    "### Repeating patterns the 'tile' method"
   ]
  },
  {
   "cell_type": "code",
   "execution_count": 107,
   "id": "ffbb13f7",
   "metadata": {},
   "outputs": [
    {
     "name": "stdout",
     "output_type": "stream",
     "text": [
      "[[1 2 1 2 1 2]\n",
      " [3 4 3 4 3 4]\n",
      " [1 2 1 2 1 2]\n",
      " [3 4 3 4 3 4]\n",
      " [1 2 1 2 1 2]\n",
      " [3 4 3 4 3 4]]\n"
     ]
    }
   ],
   "source": [
    "x = np.array([[1, 2], [3, 4]])\n",
    "print(np.tile(x, (3, 3)))"
   ]
  },
  {
   "cell_type": "code",
   "execution_count": 112,
   "id": "ada84398",
   "metadata": {},
   "outputs": [
    {
     "name": "stdout",
     "output_type": "stream",
     "text": [
      "[3.4 3.4 3.4 3.4]\n"
     ]
    }
   ],
   "source": [
    "x = np.array([3.4])\n",
    "print(np.tile(x, (4,)))"
   ]
  },
  {
   "cell_type": "markdown",
   "id": "c5db7cf5",
   "metadata": {},
   "source": [
    "## Python random numbers and probability\n",
    "### Random numbers with python"
   ]
  },
  {
   "cell_type": "code",
   "execution_count": 115,
   "id": "d95166c7",
   "metadata": {},
   "outputs": [
    {
     "name": "stdout",
     "output_type": "stream",
     "text": [
      "0.040607217133391216\n",
      "0.35584291366434195\n"
     ]
    }
   ],
   "source": [
    "import random\n",
    "\n",
    "random_no = random.random()\n",
    "print(random_no)\n",
    "\n",
    "#An alternantive and secure approach is the SystemRandom\n",
    "crypto = random.SystemRandom()\n",
    "print(crypto.random())"
   ]
  },
  {
   "cell_type": "markdown",
   "id": "19dd11ce",
   "metadata": {},
   "source": [
    "### Generating and list of random numbers"
   ]
  },
  {
   "cell_type": "code",
   "execution_count": 156,
   "id": "a1bf8877",
   "metadata": {},
   "outputs": [
    {
     "name": "stdout",
     "output_type": "stream",
     "text": [
      "[0.5613699208306163, 0.9008567259715615, 0.7614936416792834, 0.27734104634620316, 0.9421124799346983]\n"
     ]
    }
   ],
   "source": [
    "from random import SystemRandom\n",
    "\n",
    "#my code\n",
    "def random_float(n, secure=True):\n",
    "        rand_float = []\n",
    "        if secure:\n",
    "            crypto = SystemRandom()\n",
    "            rand_float = [crypto.random() for i in range(n)]\n",
    "        else:\n",
    "            rand_float = [random.random() for i in range(n)]                 \n",
    "        return rand_float\n",
    "        \n",
    "print(random_float(5))  "
   ]
  },
  {
   "cell_type": "code",
   "execution_count": 157,
   "id": "d9f0ea96",
   "metadata": {},
   "outputs": [
    {
     "name": "stdout",
     "output_type": "stream",
     "text": [
      "[0.5045273432661009, 0.7547427971680131, 0.8825288316488089, 0.5292900253957089, 0.7384780804811503]\n"
     ]
    }
   ],
   "source": [
    "#code from the book\n",
    "def random_list(n, secure=True):\n",
    "        random_floats = []\n",
    "        if secure:\n",
    "            crypto = random.SystemRandom()\n",
    "            random_float = crypto.random\n",
    "        else:\n",
    "            random_float = random.random\n",
    "        for _ in range(n):\n",
    "            random_floats.append(random_float())\n",
    "        return random_floats\n",
    "    \n",
    "print(random_list(5))\n"
   ]
  },
  {
   "cell_type": "code",
   "execution_count": 161,
   "id": "3ed3c922",
   "metadata": {},
   "outputs": [
    {
     "name": "stdout",
     "output_type": "stream",
     "text": [
      "15.7 µs ± 465 ns per loop (mean ± std. dev. of 7 runs, 100,000 loops each)\n"
     ]
    }
   ],
   "source": [
    "%%timeit\n",
    "random_list(10)"
   ]
  },
  {
   "cell_type": "code",
   "execution_count": 162,
   "id": "612cc3b6",
   "metadata": {},
   "outputs": [
    {
     "name": "stdout",
     "output_type": "stream",
     "text": [
      "1.54 µs ± 64.6 ns per loop (mean ± std. dev. of 7 runs, 1,000,000 loops each)\n"
     ]
    }
   ],
   "source": [
    "%%timeit\n",
    "random_list(10, secure=False)"
   ]
  },
  {
   "cell_type": "code",
   "execution_count": 163,
   "id": "a99d2fa2",
   "metadata": {},
   "outputs": [
    {
     "name": "stdout",
     "output_type": "stream",
     "text": [
      "15.3 µs ± 643 ns per loop (mean ± std. dev. of 7 runs, 100,000 loops each)\n"
     ]
    }
   ],
   "source": [
    "%%timeit\n",
    "random_float(10)"
   ]
  },
  {
   "cell_type": "code",
   "execution_count": 164,
   "id": "696ce0a0",
   "metadata": {},
   "outputs": [
    {
     "name": "stdout",
     "output_type": "stream",
     "text": [
      "1.65 µs ± 136 ns per loop (mean ± std. dev. of 7 runs, 100,000 loops each)\n"
     ]
    }
   ],
   "source": [
    "%%timeit\n",
    "random_float(10, secure=False)"
   ]
  },
  {
   "cell_type": "markdown",
   "id": "7bb31b29",
   "metadata": {},
   "source": [
    "### Random numbers satisfying sum-to-one condition"
   ]
  },
  {
   "cell_type": "code",
   "execution_count": 167,
   "id": "f6910d22",
   "metadata": {},
   "outputs": [
    {
     "name": "stdout",
     "output_type": "stream",
     "text": [
      "49.99384130275072\n",
      "1.0\n"
     ]
    }
   ],
   "source": [
    "list_of_random_floats = np.random.random(100)\n",
    "sum_of_values = list_of_random_floats.sum()\n",
    "print(sum_of_values)\n",
    "normalized_values = list_of_random_floats / sum_of_values\n",
    "print(normalized_values.sum())"
   ]
  },
  {
   "cell_type": "markdown",
   "id": "37fe11b1",
   "metadata": {},
   "source": [
    "### Generating random strings or passwords with python"
   ]
  },
  {
   "cell_type": "code",
   "execution_count": 176,
   "id": "c54be8d4",
   "metadata": {},
   "outputs": [
    {
     "name": "stdout",
     "output_type": "stream",
     "text": [
      "Generated password by Python: Vv5#EwV5!e\n"
     ]
    }
   ],
   "source": [
    "from random import SystemRandom\n",
    "sr = SystemRandom()  #creates an instance of the class SystemRandom\n",
    "\n",
    "def generate_password(length, valid_chars=None):\n",
    "    \"\"\"\n",
    "    generate_password(length, check_char)\n",
    "    length : The lenght of the passoword created\n",
    "    check_char: a boolean function used to check the valid of a char\n",
    "    \n",
    "    \"\"\"\n",
    "    if valid_chars == None:\n",
    "        valid_chars = 'ABCDEFGHIJKLMNOPQRSTUVWXYZ'\n",
    "        valid_chars += valid_chars.lower() + '0123456789' + '!@#$%^&*'\n",
    "        \n",
    "    password = \"\"\n",
    "    counter = 0\n",
    "    while counter < length:\n",
    "        rnum = sr.randint(0, 128)\n",
    "        char = chr(rnum)\n",
    "        if char in valid_chars:\n",
    "            password += chr(rnum)\n",
    "            counter += 1\n",
    "    return password\n",
    "\n",
    "print(\"Generated password by Python: \" + generate_password(10))"
   ]
  },
  {
   "cell_type": "markdown",
   "id": "50bb1487",
   "metadata": {},
   "source": [
    "### Random integer numbers"
   ]
  },
  {
   "cell_type": "code",
   "execution_count": 45,
   "id": "34590686",
   "metadata": {},
   "outputs": [
    {
     "name": "stdout",
     "output_type": "stream",
     "text": [
      "5\n"
     ]
    }
   ],
   "source": [
    "import random\n",
    "outcome = random.randint(1,6) #uses closed interval, 6\n",
    "print(outcome)"
   ]
  },
  {
   "cell_type": "code",
   "execution_count": 178,
   "id": "163478f5",
   "metadata": {},
   "outputs": [
    {
     "name": "stdout",
     "output_type": "stream",
     "text": [
      "[4, 2, 2, 5, 2, 5, 1, 3, 6, 1]\n"
     ]
    }
   ],
   "source": [
    "print([ random.randint(1, 6) for _ in range(10) ])"
   ]
  },
  {
   "cell_type": "markdown",
   "id": "0fa2892b",
   "metadata": {},
   "source": [
    "This can also be achieved using the numpy package random"
   ]
  },
  {
   "cell_type": "code",
   "execution_count": 180,
   "id": "416986f0",
   "metadata": {
    "scrolled": true
   },
   "outputs": [
    {
     "name": "stdout",
     "output_type": "stream",
     "text": [
      "[1 1 2 3 6 3 6 4 4 2]\n"
     ]
    }
   ],
   "source": [
    "import numpy as np\n",
    "\n",
    "outcome = np.random.randint(1, 7, size=10) #randint from numpy uses half-open interval, this exaplains the parameter 7\n",
    "print(outcome)"
   ]
  },
  {
   "cell_type": "code",
   "execution_count": 181,
   "id": "cd93a17d",
   "metadata": {},
   "outputs": [
    {
     "name": "stdout",
     "output_type": "stream",
     "text": [
      "2\n"
     ]
    }
   ],
   "source": [
    "print(np.random.randint(1, 7))"
   ]
  },
  {
   "cell_type": "code",
   "execution_count": 182,
   "id": "5f306c6b",
   "metadata": {},
   "outputs": [
    {
     "name": "stdout",
     "output_type": "stream",
     "text": [
      "[[3 3 6]\n",
      " [5 2 5]]\n"
     ]
    }
   ],
   "source": [
    "print(np.random.randint(1, 7, size=(2, 3)))"
   ]
  },
  {
   "cell_type": "markdown",
   "id": "d34b734a",
   "metadata": {},
   "source": [
    "### Random choices with python"
   ]
  },
  {
   "cell_type": "code",
   "execution_count": 183,
   "id": "e409590e",
   "metadata": {},
   "outputs": [
    {
     "name": "stdout",
     "output_type": "stream",
     "text": [
      "Zurich\n"
     ]
    }
   ],
   "source": [
    "from random import choice\n",
    "\n",
    "possible_destinations = [\"Berlin\", \"Hamburg\", \"Munich\", \"Amsterdam\", \"London\", \"Paris\", \"Zurich\", \n",
    "                         \"Heidelberg\", \"Strasbourg\", \"Augsburg\", \"Milan\", \"Rome\"]\n",
    "\n",
    "print(choice(possible_destinations))"
   ]
  },
  {
   "cell_type": "code",
   "execution_count": 184,
   "id": "ac58fe8e",
   "metadata": {},
   "outputs": [
    {
     "name": "stdout",
     "output_type": "stream",
     "text": [
      "Munich\n"
     ]
    }
   ],
   "source": [
    "from numpy.random import choice\n",
    "\n",
    "print(choice(possible_destinations))"
   ]
  },
  {
   "cell_type": "markdown",
   "id": "1aa7b923",
   "metadata": {},
   "source": [
    "With the help of the size parameter, I can create a numpy.ndarray with choice values"
   ]
  },
  {
   "cell_type": "code",
   "execution_count": 186,
   "id": "8e9926ef",
   "metadata": {},
   "outputs": [
    {
     "name": "stdout",
     "output_type": "stream",
     "text": [
      "['Strasbourg' 'Heidelberg' 'Strasbourg' 'Paris']\n",
      "[['Milan' 'Amsterdam' 'Heidelberg']\n",
      " ['Munich' 'Rome' 'London']]\n"
     ]
    }
   ],
   "source": [
    "print(choice(possible_destinations, size=4))\n",
    "print(choice(possible_destinations, size=(2, 3)))"
   ]
  },
  {
   "cell_type": "markdown",
   "id": "264bb170",
   "metadata": {},
   "source": [
    "To prevent multiple occurences of cities, I can set the parameter replace to False"
   ]
  },
  {
   "cell_type": "code",
   "execution_count": 187,
   "id": "08ae3186",
   "metadata": {},
   "outputs": [
    {
     "name": "stdout",
     "output_type": "stream",
     "text": [
      "[['Augsburg' 'Milan' 'Amsterdam']\n",
      " ['Rome' 'Berlin' 'Strasbourg']]\n"
     ]
    }
   ],
   "source": [
    "print(choice(possible_destinations, size=(2, 3), replace=False))"
   ]
  },
  {
   "cell_type": "markdown",
   "id": "7a330514",
   "metadata": {},
   "source": [
    "### Random samples with python"
   ]
  },
  {
   "cell_type": "code",
   "execution_count": 193,
   "id": "3c46e4eb",
   "metadata": {},
   "outputs": [
    {
     "name": "stdout",
     "output_type": "stream",
     "text": [
      "[[0.03499214 0.68882561]\n",
      " [0.63573228 0.8334525 ]]\n",
      "[0.26383128 0.28143723 0.49727001]\n"
     ]
    }
   ],
   "source": [
    "x = np.random.random_sample((2, 2))\n",
    "print(x)\n",
    "print(np.random.random_sample(3))"
   ]
  },
  {
   "cell_type": "code",
   "execution_count": 194,
   "id": "0fb035a9",
   "metadata": {},
   "outputs": [
    {
     "name": "stdout",
     "output_type": "stream",
     "text": [
      "[14, 16, 15, 43, 4]\n"
     ]
    }
   ],
   "source": [
    "print(random.sample(range(1, 50), 5))"
   ]
  },
  {
   "cell_type": "markdown",
   "id": "1942c539",
   "metadata": {},
   "source": [
    "The vast majority of random values used in computer algorithms are pseudo-random. Because the method is deterministic, the numbers are produced in a predictable manner."
   ]
  },
  {
   "cell_type": "markdown",
   "id": "12118a58",
   "metadata": {},
   "source": [
    "## Weighted Probabilities"
   ]
  },
  {
   "cell_type": "code",
   "execution_count": 46,
   "id": "31716a1d",
   "metadata": {},
   "outputs": [
    {
     "name": "stdout",
     "output_type": "stream",
     "text": [
      "i\n"
     ]
    }
   ],
   "source": [
    "from random import choice, sample\n",
    "print(choice('abcdefghij'))"
   ]
  },
  {
   "cell_type": "code",
   "execution_count": 52,
   "id": "59c2ab79",
   "metadata": {},
   "outputs": [
    {
     "name": "stdout",
     "output_type": "stream",
     "text": [
      "engineer\n"
     ]
    }
   ],
   "source": [
    "professions = [\"scientist\", \"philosopher\", \"engineer\", \"priest\"]\n",
    "print(choice(professions))"
   ]
  },
  {
   "cell_type": "code",
   "execution_count": 56,
   "id": "ba129917",
   "metadata": {},
   "outputs": [
    {
     "name": "stdout",
     "output_type": "stream",
     "text": [
      "The die shows: 2\n",
      "The die shows: [6, 3]\n"
     ]
    }
   ],
   "source": [
    "#rolling one die\n",
    "\n",
    "x = choice(range(1, 7))\n",
    "print(\"The die shows: \" + str(x))\n",
    "\n",
    "dice = sample(range(1, 7), 2)\n",
    "print(\"The die shows: \" + str(dice))"
   ]
  },
  {
   "cell_type": "markdown",
   "id": "5a9c6a2e",
   "metadata": {},
   "source": [
    "### Weighted random choices"
   ]
  },
  {
   "cell_type": "code",
   "execution_count": 58,
   "id": "de67a3ee",
   "metadata": {},
   "outputs": [
    {
     "name": "stdout",
     "output_type": "stream",
     "text": [
      "[0, 0.2, 0.7, 1.0]\n"
     ]
    }
   ],
   "source": [
    "import numpy as np\n",
    "\n",
    "weights = [0.2, 0.5, 0.3]\n",
    "cum_weights = [0] + list(np.cumsum(weights))\n",
    "print(cum_weights)"
   ]
  },
  {
   "cell_type": "code",
   "execution_count": 75,
   "id": "a52ce977",
   "metadata": {},
   "outputs": [],
   "source": [
    "import random\n",
    "from random import random\n",
    "\n",
    "def weighted_choice(objects, weights):\n",
    "    \"\"\"\n",
    "    returns randomly an element from the sequence objects\n",
    "    \n",
    "    the likelihood of the object is weighted according to the sequence of 'weights'\n",
    "    \n",
    "    \"\"\"\n",
    "    weights = np.array(weights, dtype=np.float64)\n",
    "    sum_of_weights = weights.sum()\n",
    "    \n",
    "    #standardization\n",
    "    np.multiply(weights, 1/sum_of_weights, weights)\n",
    "    weights = weights.cumsum()\n",
    "    x = random()\n",
    "    for i in range(len(weights)):\n",
    "        if x < weights[i]:\n",
    "            return objects[i]\n",
    "        \n"
   ]
  },
  {
   "cell_type": "code",
   "execution_count": 77,
   "id": "e52f0daa",
   "metadata": {},
   "outputs": [
    {
     "name": "stdout",
     "output_type": "stream",
     "text": [
      "5\n"
     ]
    }
   ],
   "source": [
    "faces_of_die = [1, 2, 3, 4, 5, 6]\n",
    "\n",
    "weights = [1/12, 1/6, 1/6, 1/6, 1/6, 3/12]\n",
    "outcomes = []\n",
    "n = 1\n",
    "for _ in range(n):\n",
    "    outcomes.append(weighted_choice(faces_of_die, weights)) \n",
    "\n",
    "print(outcome)"
   ]
  },
  {
   "cell_type": "code",
   "execution_count": 80,
   "id": "714c60f1",
   "metadata": {},
   "outputs": [
    {
     "name": "stdout",
     "output_type": "stream",
     "text": [
      "[0.14, 0.12, 0.04, 0.27, 0.08, 0.35]\n",
      "Frankfurt\n",
      "München\n",
      "München\n",
      "München\n",
      "Stuttgart\n",
      "Stuttgart\n",
      "München\n",
      "Hamburg\n",
      "Freiburg\n",
      "Stuttgart\n"
     ]
    }
   ],
   "source": [
    "cities = [\"Frankfurt\",\"Stuttgart\", \"Freiburg\",\n",
    "          \"München\",\"Zürich\",\"Hamburg\"]\n",
    "\n",
    "populations = [736000, 628000, 228000, 1450000, 409241, 1841179]\n",
    "total = sum(populations)\n",
    "weights = [ round(pop / total, 2) for pop in populations]\n",
    "print(weights)\n",
    "\n",
    "for i in range(10):\n",
    "    print(weighted_choice(cities, populations))"
   ]
  },
  {
   "cell_type": "markdown",
   "id": "d319d3b8",
   "metadata": {},
   "source": [
    "### Weighted random choice with numpy"
   ]
  },
  {
   "cell_type": "code",
   "execution_count": 81,
   "id": "e9e5f50c",
   "metadata": {},
   "outputs": [
    {
     "data": {
      "text/plain": [
       "'programmer'"
      ]
     },
     "execution_count": 81,
     "metadata": {},
     "output_type": "execute_result"
    }
   ],
   "source": [
    "from numpy.random import choice\n",
    "professions = [\"scientist\", \"philosopher\", \"engineer\",\n",
    "               \"priest\", \"programmer\"]\n",
    "\n",
    "probabilities = [0.2, 0.05, 0.3, 0.15, 0.3]\n",
    "choice(professions, p=probabilities)"
   ]
  },
  {
   "cell_type": "markdown",
   "id": "ac839223",
   "metadata": {},
   "source": [
    "## Reading and writing data files\n",
    "### Saving textfiles with savetxt"
   ]
  },
  {
   "cell_type": "code",
   "execution_count": 6,
   "id": "ed2e5f77",
   "metadata": {},
   "outputs": [],
   "source": [
    "import numpy as np\n",
    "\n",
    "x = np.array([[1, 2, 3],\n",
    "              [4, 5, 6],\n",
    "              [7, 8, 9]], np.int32)\n",
    "\n",
    "np.savetxt(\"test.txt\", x)\n",
    "np.savetxt(\"test1.txt\", x, fmt='%4d', delimiter=',')"
   ]
  },
  {
   "cell_type": "markdown",
   "id": "7b873d82",
   "metadata": {},
   "source": [
    "### Loading text files with loadtxt"
   ]
  },
  {
   "cell_type": "code",
   "execution_count": 10,
   "id": "76902fcf",
   "metadata": {},
   "outputs": [
    {
     "name": "stdout",
     "output_type": "stream",
     "text": [
      "[[1. 2. 3.]\n",
      " [4. 5. 6.]\n",
      " [7. 8. 9.]]\n",
      "[[1. 2. 3.]\n",
      " [4. 5. 6.]\n",
      " [7. 8. 9.]]\n"
     ]
    }
   ],
   "source": [
    "import numpy as np\n",
    "y = np.loadtxt(\"test.txt\")\n",
    "print(y)\n",
    "z = np.loadtxt(\"test1.txt\", delimiter=',')\n",
    "print(z)"
   ]
  },
  {
   "cell_type": "code",
   "execution_count": 19,
   "id": "48dfe860",
   "metadata": {},
   "outputs": [
    {
     "name": "stdout",
     "output_type": "stream",
     "text": [
      "360.1666666666667\n",
      "387.75\n",
      "779.9833333333333\n"
     ]
    }
   ],
   "source": [
    "def time2float_minutes(time):\n",
    "    if type(time) == bytes:\n",
    "        time = time.decode()\n",
    "    t = time.split(\":\")\n",
    "    minutes = float(t[0]) * 60 + float(t[1]) + (float(t[2]) * 1/60)\n",
    "    \n",
    "    return minutes\n",
    "\n",
    "for t in [\"06:00:10\", \"06:27:45\", \"12:59:59\"]:\n",
    "        print(time2float_minutes(t))      "
   ]
  },
  {
   "cell_type": "code",
   "execution_count": 30,
   "id": "a3835467",
   "metadata": {},
   "outputs": [
    {
     "name": "stdout",
     "output_type": "stream",
     "text": [
      "[[360.   20.1]\n",
      " [361.5  16.1]\n",
      " [363.   16.9]\n",
      " [364.5  13.4]\n",
      " [366.   23.7]\n",
      " [367.5  23.6]\n",
      " [369.   17.5]\n",
      " [370.5  11. ]]\n"
     ]
    }
   ],
   "source": [
    "y = np.loadtxt(\"times and temperature.txt\", converters={ 0: time2float_minutes})\n",
    "print(y)"
   ]
  },
  {
   "cell_type": "markdown",
   "id": "75e7f043",
   "metadata": {},
   "source": [
    "### Tofile"
   ]
  },
  {
   "cell_type": "code",
   "execution_count": 36,
   "id": "2c789b86",
   "metadata": {},
   "outputs": [
    {
     "name": "stdout",
     "output_type": "stream",
     "text": [
      "[((10, 0), 50.)]\n"
     ]
    }
   ],
   "source": [
    "dt = np.dtype([('time', [('min', int), ('sec', int)]), ('temp', float)])\n",
    "x = np.zeros((1,), dtype=dt)\n",
    "x['time']['min'] = 10\n",
    "x['temp'] = 50\n",
    "print(x)\n",
    "\n",
    "fh = open('test2.txt', 'bw')\n",
    "x.tofile(fh)"
   ]
  },
  {
   "cell_type": "markdown",
   "id": "85f38afe",
   "metadata": {},
   "source": [
    "### Fromfile"
   ]
  },
  {
   "cell_type": "code",
   "execution_count": 37,
   "id": "f2d3ca6f",
   "metadata": {},
   "outputs": [
    {
     "data": {
      "text/plain": [
       "array([((10, 0), 50.)],\n",
       "      dtype=[('time', [('min', '<i4'), ('sec', '<i4')]), ('temp', '<f8')])"
      ]
     },
     "execution_count": 37,
     "metadata": {},
     "output_type": "execute_result"
    }
   ],
   "source": [
    "import numpy as np\n",
    "\n",
    "fh = open('test2.txt', 'rb')\n",
    "np.fromfile(fh, dtype=dt)"
   ]
  },
  {
   "cell_type": "markdown",
   "id": "93614998",
   "metadata": {},
   "source": [
    "### Best pratice to store and save data in numpy "
   ]
  },
  {
   "cell_type": "code",
   "execution_count": 39,
   "id": "2a2dcd87",
   "metadata": {},
   "outputs": [],
   "source": [
    "import numpy as np\n",
    "from tempfile import TemporaryFile\n",
    "\n",
    "outfile = TemporaryFile()\n",
    "\n",
    "x = np.arange(10)\n",
    "np.save(outfile, x)"
   ]
  },
  {
   "cell_type": "code",
   "execution_count": 42,
   "id": "f029be56",
   "metadata": {},
   "outputs": [
    {
     "data": {
      "text/plain": [
       "array([0, 1, 2, 3, 4, 5, 6, 7, 8, 9])"
      ]
     },
     "execution_count": 42,
     "metadata": {},
     "output_type": "execute_result"
    }
   ],
   "source": [
    "outfile.seek(0) #simulate closing and opening of file\n",
    "np.load(outfile)"
   ]
  },
  {
   "cell_type": "code",
   "execution_count": 82,
   "id": "0a9bb909",
   "metadata": {},
   "outputs": [
    {
     "name": "stdout",
     "output_type": "stream",
     "text": [
      "The capital city of France is Paris\n",
      "The capital city of Netherlands is Amsterdam\n",
      "The capital city of Germany is Berlin\n",
      "The capital city of Switzerland is Bern\n",
      "The capital city of Austria is Vienna\n"
     ]
    }
   ],
   "source": [
    "capitals = { \n",
    "    \"France\":\"Paris\", \n",
    "    \"Netherlands\":\"Amsterdam\", \n",
    "    \"Germany\":\"Berlin\", \n",
    "    \"Switzerland\":\"Bern\", \n",
    "    \"Austria\":\"Vienna\"}\n",
    "\n",
    "for country in capitals:\n",
    "     print(\"The capital city of \" + country + \" is \" + capitals[country])"
   ]
  },
  {
   "cell_type": "code",
   "execution_count": null,
   "id": "784837e9",
   "metadata": {},
   "outputs": [],
   "source": []
  }
 ],
 "metadata": {
  "kernelspec": {
   "display_name": "Python 3 (ipykernel)",
   "language": "python",
   "name": "python3"
  },
  "language_info": {
   "codemirror_mode": {
    "name": "ipython",
    "version": 3
   },
   "file_extension": ".py",
   "mimetype": "text/x-python",
   "name": "python",
   "nbconvert_exporter": "python",
   "pygments_lexer": "ipython3",
   "version": "3.8.5"
  }
 },
 "nbformat": 4,
 "nbformat_minor": 5
}
