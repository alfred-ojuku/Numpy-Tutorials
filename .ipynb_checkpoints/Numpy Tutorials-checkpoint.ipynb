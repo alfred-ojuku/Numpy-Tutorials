{
 "cells": [
  {
   "cell_type": "markdown",
   "id": "bd5ba4f4",
   "metadata": {},
   "source": [
    "## A simple Numpy example"
   ]
  },
  {
   "cell_type": "code",
   "execution_count": 5,
   "id": "22b1f63f",
   "metadata": {},
   "outputs": [
    {
     "name": "stdout",
     "output_type": "stream",
     "text": [
      "[20.1 20.8 21.9 22.5 22.7 22.3 21.8 21.2 20.9 20.1]\n",
      "\n",
      "[68.18 69.44 71.42 72.5  72.86 72.14 71.24 70.16 69.62 68.18]\n"
     ]
    },
    {
     "data": {
      "text/plain": [
       "numpy.ndarray"
      ]
     },
     "execution_count": 5,
     "metadata": {},
     "output_type": "execute_result"
    }
   ],
   "source": [
    "import numpy as np\n",
    "\n",
    "c_values = [20.1, 20.8, 21.9, 22.5, 22.7, 22.3, 21.8, 21.2, 20.9, 20.1] #in degrees\n",
    "\n",
    "#turning cvalues list into one-dimensional numpy array\n",
    "C = np.array(c_values)\n",
    "print(C)\n",
    "\n",
    "#Changing the the values from degrees celsius to degrees Fahrenheit\n",
    "print(f\"\\n{C * 9/5 + 32}\")\n",
    "\n",
    "type(C)"
   ]
  },
  {
   "cell_type": "markdown",
   "id": "84ea9c6d",
   "metadata": {},
   "source": [
    "## Graphical representation of the values"
   ]
  },
  {
   "cell_type": "code",
   "execution_count": 6,
   "id": "e48d9656",
   "metadata": {},
   "outputs": [
    {
     "data": {
      "image/png": "[encoded data removed]",
      "text/plain": [
       "<Figure size 640x480 with 1 Axes>"
      ]
     },
     "metadata": {},
     "output_type": "display_data"
    }
   ],
   "source": [
    "%matplotlib inline\n",
    "import matplotlib.pyplot as plt\n",
    "\n",
    "plt.plot(C)\n",
    "plt.show()"
   ]
  },
  {
   "cell_type": "markdown",
   "id": "66f8befd",
   "metadata": {},
   "source": [
    "## Memory consumption: ndarray vs list"
   ]
  },
  {
   "cell_type": "markdown",
   "id": "cd86d827",
   "metadata": {},
   "source": [
    "### List"
   ]
  },
  {
   "cell_type": "code",
   "execution_count": 17,
   "id": "067bde4f",
   "metadata": {},
   "outputs": [
    {
     "name": "stdout",
     "output_type": "stream",
     "text": [
      "Size of list without element: 80\n",
      "Size of elements: 84\n",
      "Total size of list, including elements: 164\n"
     ]
    }
   ],
   "source": [
    "from sys import getsizeof as size\n",
    "\n",
    "lst = [24, 12, 67]\n",
    "size_of_list_object = size(lst)\n",
    "size_of_elements = len(lst) * size(lst[0])\n",
    "total_list_size = size_of_list_object + size_of_elements\n",
    "print(f\"Size of list without element: {size_of_list_object}\")\n",
    "print(f\"Size of elements: {size_of_elements}\")\n",
    "print(f\"Total size of list, including elements: {total_list_size}\")\n",
    "\n"
   ]
  },
  {
   "cell_type": "code",
   "execution_count": 20,
   "id": "644870c0",
   "metadata": {},
   "outputs": [
    {
     "name": "stdout",
     "output_type": "stream",
     "text": [
      "Size of list without element: 88\n",
      "Size of elements: 112\n",
      "Total size of list, including elements: 200\n",
      "Empty list size: 56\n"
     ]
    }
   ],
   "source": [
    "lst = [24, 12, 67, 45]\n",
    "lst1 = []\n",
    "size_of_list_object = size(lst)\n",
    "size_of_elements = len(lst) * size(lst[0])\n",
    "total_list_size = size_of_list_object + size_of_elements\n",
    "print(f\"Size of list without element: {size_of_list_object}\")\n",
    "print(f\"Size of elements: {size_of_elements}\")\n",
    "print(f\"Total size of list, including elements: {total_list_size}\")\n",
    "print(f\"Empty list size: {size(lst1)}\")"
   ]
  },
  {
   "cell_type": "markdown",
   "id": "f3e4821d",
   "metadata": {},
   "source": [
    "### Ndarray"
   ]
  },
  {
   "cell_type": "code",
   "execution_count": 23,
   "id": "2a696124",
   "metadata": {},
   "outputs": [
    {
     "name": "stdout",
     "output_type": "stream",
     "text": [
      "124\n",
      "112\n"
     ]
    }
   ],
   "source": [
    "a = np.array([24, 12, 67])\n",
    "print(size(a))\n",
    "e = np.array([])\n",
    "print(size(e))"
   ]
  },
  {
   "cell_type": "markdown",
   "id": "57c2d751",
   "metadata": {},
   "source": [
    "## Time consumption: ndarray vs list"
   ]
  },
  {
   "cell_type": "code",
   "execution_count": 48,
   "id": "2f5b6aa7",
   "metadata": {},
   "outputs": [
    {
     "name": "stdout",
     "output_type": "stream",
     "text": [
      "0.0009999275207519531\n",
      "0.0\n"
     ]
    }
   ],
   "source": [
    "import time\n",
    "\n",
    "size_of_vec = 1000\n",
    "\n",
    "def pure_python_version():\n",
    "    t1 = time.time()\n",
    "    x = range(size_of_vec)\n",
    "    y = range(size_of_vec)\n",
    "    z = [x[i] + y[i] for i in range(len(x))]\n",
    "    \n",
    "    return time.time() - t1\n",
    "\n",
    "def numpy_version():\n",
    "    t1 = time.time()\n",
    "    x = np.arange(size_of_vec)\n",
    "    y = np.arange(size_of_vec)\n",
    "    z = x + y\n",
    "    \n",
    "    return time.time() - t1\n",
    "\n",
    "t1 = pure_python_version()\n",
    "t2 = numpy_version()\n",
    "\n",
    "print(t1)\n",
    "print(float(t2))\n",
    "#print(f\"Numpy in this example is {t1/t2} faster!\")"
   ]
  },
  {
   "cell_type": "markdown",
   "id": "e427a6b7",
   "metadata": {},
   "source": [
    "## Creation of arrays with evenly spaced values"
   ]
  },
  {
   "cell_type": "markdown",
   "id": "40c547e9",
   "metadata": {},
   "source": [
    "### Arange"
   ]
  },
  {
   "cell_type": "code",
   "execution_count": 63,
   "id": "48dc65f9",
   "metadata": {},
   "outputs": [
    {
     "name": "stdout",
     "output_type": "stream",
     "text": [
      "[0 2 4 6 8]\n",
      "range(0, 10)\n",
      "[0, 1, 2, 3, 4, 5, 6, 7, 8, 9]\n",
      "[ 0.  1.  2.  3.  4.  5.  6.  7.  8.  9. 10.]\n",
      "[ 0.5  1.3  2.1  2.9  3.7  4.5  5.3  6.1  6.9  7.7  8.5  9.3 10.1]\n",
      "[12.04 12.12 12.2  12.28 12.36 12.44 12.52 12.6  12.68 12.76 12.84]\n",
      "[ 0  1  2  3  4  5  6  7  8  9 10 11 12]\n"
     ]
    }
   ],
   "source": [
    "x = np.arange(0, 10, 2)\n",
    "print(x)\n",
    "\n",
    "x = range(0, 10)\n",
    "print(x)\n",
    "\n",
    "X = list(x)\n",
    "print(X)\n",
    "\n",
    "#further arange examples\n",
    "y = np.arange(10.4)\n",
    "print(y)\n",
    "y = np.arange(0.5, 10.4, 0.8)\n",
    "print(y)\n",
    "\n",
    "print(np.arange(12.04, 12.84, 0.08))\n",
    "print(np.arange(0.5, 10.4, 0.8, int)) #This results defies all logical operations"
   ]
  },
  {
   "cell_type": "markdown",
   "id": "2d2da6f3",
   "metadata": {},
   "source": [
    "### Linspace"
   ]
  },
  {
   "cell_type": "code",
   "execution_count": 88,
   "id": "0b16a396",
   "metadata": {},
   "outputs": [
    {
     "name": "stdout",
     "output_type": "stream",
     "text": [
      "7\n",
      "[ 1.   2.5  4.   5.5  7.   8.5 10. ]\n",
      "1.5\n"
     ]
    }
   ],
   "source": [
    "x = np.linspace(1, 10, 7)\n",
    "print(len(x))\n",
    "print(x)\n",
    "\n",
    "samples, spacing = np.linspace(1, 10, 7, retstep=True)\n",
    "print(spacing)"
   ]
  },
  {
   "cell_type": "markdown",
   "id": "286ea674",
   "metadata": {},
   "source": [
    "## Zero-dimensional arrays"
   ]
  },
  {
   "cell_type": "code",
   "execution_count": 108,
   "id": "c3cdc5fc",
   "metadata": {},
   "outputs": [
    {
     "name": "stdout",
     "output_type": "stream",
     "text": [
      "x: 42\n",
      "The type of x: <class 'numpy.ndarray'>\n",
      "The dimension of x: 0\n",
      "Shape: ()\n"
     ]
    }
   ],
   "source": [
    "x = np.array(42)\n",
    "print(f\"x: {x}\")\n",
    "print(f\"The type of x: {type(x)}\")\n",
    "print(f\"The dimension of x: {np.ndim(x)}\")\n",
    "print(f\"Shape: {x.shape}\")"
   ]
  },
  {
   "cell_type": "markdown",
   "id": "783d7e18",
   "metadata": {},
   "source": [
    "## One-dimensional arrays"
   ]
  },
  {
   "cell_type": "code",
   "execution_count": 92,
   "id": "cf2deb85",
   "metadata": {},
   "outputs": [
    {
     "name": "stdout",
     "output_type": "stream",
     "text": [
      "F: [ 1  2  3  4  5  6 34]\n",
      "V: [1.2 3.5 6.7 7.5]\n",
      "\n",
      "Type of F: int32\n",
      "Type of V: float64\n",
      "\n",
      "Dimension of F: 1\n",
      "Dimension of V: 1\n"
     ]
    }
   ],
   "source": [
    "F = np.array([1, 2, 3, 4, 5, 6, 34])\n",
    "V = np.array([1.2, 3.5, 6.7, 7.5])\n",
    "\n",
    "print(f\"F: {F}\")\n",
    "print(f\"V: {V}\")\n",
    "print(f\"\\nType of F: {F.dtype}\")\n",
    "print(f\"Type of V: {V.dtype}\")\n",
    "print(f\"\\nDimension of F: {np.ndim(F)}\")\n",
    "print(f\"Dimension of V: {np.ndim(V)}\")\n"
   ]
  },
  {
   "cell_type": "markdown",
   "id": "3a6bd059",
   "metadata": {},
   "source": [
    "## Two-and multidimensional arrays"
   ]
  },
  {
   "cell_type": "code",
   "execution_count": 94,
   "id": "41103921",
   "metadata": {},
   "outputs": [
    {
     "name": "stdout",
     "output_type": "stream",
     "text": [
      "[[1 2 3]\n",
      " [4 5 6]]\n",
      "2\n"
     ]
    }
   ],
   "source": [
    "#two dimensional arrays\n",
    "A = np.array([[1, 2, 3],[4, 5, 6]])\n",
    "print(A)\n",
    "print(np.ndim(A))"
   ]
  },
  {
   "cell_type": "code",
   "execution_count": 99,
   "id": "c75e76bf",
   "metadata": {},
   "outputs": [
    {
     "name": "stdout",
     "output_type": "stream",
     "text": [
      "[[[ 1  2  3]\n",
      "  [ 4  5  6]]\n",
      "\n",
      " [[ 7  8  9]\n",
      "  [10 11 12]]\n",
      "\n",
      " [[13 14 15]\n",
      "  [16 17 18]]\n",
      "\n",
      " [[19 20 21]\n",
      "  [22 23 24]]]\n",
      "3\n"
     ]
    }
   ],
   "source": [
    "# Three dimensional arrays\n",
    "B = np.array([ [[1,2,3], [4, 5, 6]],\n",
    "               [[7, 8, 9], [10, 11, 12]],\n",
    "               [[13, 14, 15], [16, 17, 18]],\n",
    "               [[19, 20, 21], [22, 23, 24]]\n",
    "             ])\n",
    "print(B)\n",
    "print(np.ndim(B))"
   ]
  },
  {
   "cell_type": "markdown",
   "id": "63f6b73c",
   "metadata": {},
   "source": [
    "## Shape of an array"
   ]
  },
  {
   "cell_type": "code",
   "execution_count": 106,
   "id": "bcf5b8f2",
   "metadata": {},
   "outputs": [
    {
     "name": "stdout",
     "output_type": "stream",
     "text": [
      "(3, 2)\n",
      "(4, 2, 3)\n",
      "[[1 2]\n",
      " [3 4]\n",
      " [5 6]]\n"
     ]
    }
   ],
   "source": [
    "print(np.shape(A))\n",
    "print(B.shape)\n",
    "\n",
    "#Changing the shape of A array\n",
    "A.shape = (3, 2)\n",
    "print(A)"
   ]
  },
  {
   "cell_type": "code",
   "execution_count": 107,
   "id": "dd4eaec1",
   "metadata": {},
   "outputs": [
    {
     "name": "stdout",
     "output_type": "stream",
     "text": [
      "[[ 1  2  3  4]\n",
      " [ 5  6  7  8]\n",
      " [ 9 10 11 12]\n",
      " [13 14 15 16]\n",
      " [17 18 19 20]\n",
      " [21 22 23 24]]\n"
     ]
    }
   ],
   "source": [
    "B.shape = (6, 4)\n",
    "print(B)"
   ]
  },
  {
   "cell_type": "markdown",
   "id": "6a808761",
   "metadata": {},
   "source": [
    "## Index and slicing"
   ]
  },
  {
   "cell_type": "code",
   "execution_count": 111,
   "id": "5376dbc3",
   "metadata": {},
   "outputs": [
    {
     "name": "stdout",
     "output_type": "stream",
     "text": [
      "2\n",
      "6\n"
     ]
    }
   ],
   "source": [
    "F = np.array([1, 2, 3, 4, 5, 6])\n",
    "print(F[1])\n",
    "print(F[-1])"
   ]
  },
  {
   "cell_type": "code",
   "execution_count": 122,
   "id": "4e7a052d",
   "metadata": {},
   "outputs": [
    {
     "name": "stdout",
     "output_type": "stream",
     "text": [
      "19\n",
      "19\n"
     ]
    }
   ],
   "source": [
    "# Indexing multidimensional arrays\n",
    "B = np.array([ [[1,2,3], [4, 5, 6]],\n",
    "               [[7, 8, 9], [10, 11, 12]],\n",
    "               [[13, 14, 15], [16, 17, 18]],\n",
    "               [[19, 20, 21], [22, 23, 24]]\n",
    "             ])\n",
    "\n",
    "print(B[3][0][0])\n",
    "#another efficient way of accessing multi-dimensional array\n",
    "print(B[3, 0, 0])"
   ]
  },
  {
   "cell_type": "code",
   "execution_count": null,
   "id": "e02bc548",
   "metadata": {},
   "outputs": [],
   "source": []
  }
 ],
 "metadata": {
  "kernelspec": {
   "display_name": "Python 3 (ipykernel)",
   "language": "python",
   "name": "python3"
  },
  "language_info": {
   "codemirror_mode": {
    "name": "ipython",
    "version": 3
   },
   "file_extension": ".py",
   "mimetype": "text/x-python",
   "name": "python",
   "nbconvert_exporter": "python",
   "pygments_lexer": "ipython3",
   "version": "3.8.5"
  }
 },
 "nbformat": 4,
 "nbformat_minor": 5
}
